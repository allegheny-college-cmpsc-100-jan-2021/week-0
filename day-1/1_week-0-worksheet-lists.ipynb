{
 "cells": [
  {
   "cell_type": "markdown",
   "metadata": {},
   "source": [
    "# Worksheet 0.1.1: Data structures (lists)\n",
    "\n",
    "## Making a list, checking it twice\n",
    "\n",
    "Sometimes we want to store single values in a variable. Up to now, that's been what we've done. Take a look at some of our examples:"
   ]
  },
  {
   "cell_type": "code",
   "execution_count": 1,
   "metadata": {},
   "outputs": [],
   "source": [
    "# Assigning a single value to a variable\n",
    "\n",
    "bananas = 5\n",
    "light_switch = True\n",
    "name = \"G. Wiz\""
   ]
  },
  {
   "cell_type": "markdown",
   "metadata": {},
   "source": [
    "And, that's great -- if all we need to store is _one_ value. But, can you imagine a situation in which we need to store more than one value, say in a shopping list?\n",
    "\n",
    "```python\n",
    "# You know you're not gonna use that Trident\n",
    "shopping_list = \"bananas, peanut butter, Clawparazzi, gum\"\n",
    "```\n",
    "\n",
    "Now imagine that you went against yout better judgment and bought the gum anyway. We'd need to take it _off_ the list, right? That'd be really inconvenient, because we'd have to edit our `string`, and -- take it from me -- that's pretty annoying and impractical.\n",
    "\n",
    "Instead, Python gives us the ability to make `list`s. We can store more than one item in a variable _and_ manipulate it as well. Consider our above example shopping list as a `list`:"
   ]
  },
  {
   "cell_type": "code",
   "execution_count": 2,
   "metadata": {},
   "outputs": [],
   "source": [
    "shopping_list = [\"bananas\", \"peanut butter\", \"Clawparrazi\", \"gum\"]"
   ]
  },
  {
   "cell_type": "markdown",
   "metadata": {},
   "source": [
    "Here, we see a different _syntax_ again: the use of square brackets (`[]`) to enclose our list of values and `string`s (our values) separated by commas to denote _individual entries_.\n",
    "\n",
    "And, lists can store any data type: they're not limited to `string`s. If I were to track the number of my groundhog sightings in a given day over five days:"
   ]
  },
  {
   "cell_type": "code",
   "execution_count": 3,
   "metadata": {},
   "outputs": [],
   "source": [
    "# The groundhog: Pennsylvania's most elusive beast\n",
    "groundhogs_seen = [0, 0, 10, 0, 0]\n",
    "\n",
    "# The above as a strict \"yes or no\" question\n",
    "any_groundhogs_seen = [False, False, True, False, False]"
   ]
  },
  {
   "cell_type": "markdown",
   "metadata": {},
   "source": [
    "### Indexes\n",
    "\n",
    "`list`s by themselves aren't super impressive. But, what you can do with them is. Let's consider the fact that we refer to them as _data structures_, taking that phrase apart:\n",
    "\n",
    "* _data_ meaning information\n",
    "* _structures_ meaning an orderly means of storage\n",
    "\n",
    "So, what does it mean that they're \"orderly?\" Mostly, it means that we can trust that `list`s have what we call a \"shape\". In the case of all of our above-defined variables-as-`list`s, we can use the `len` function to learn a bit more about that:"
   ]
  },
  {
   "cell_type": "code",
   "execution_count": 4,
   "metadata": {},
   "outputs": [
    {
     "name": "stdout",
     "output_type": "stream",
     "text": [
      "Shopping list shape: 4\n",
      "Groundhog sighting shape: 5\n",
      "Boolean groundhog sighting shape: 5\n"
     ]
    }
   ],
   "source": [
    "# Also, notice the new way we can print different types of values on the same line!\n",
    "\n",
    "# Shopping list\n",
    "print(\"Shopping list shape:\", len(shopping_list))\n",
    "\n",
    "# Groundhog sightings as integers\n",
    "print(\"Groundhog sighting shape:\", len(groundhogs_seen))\n",
    "\n",
    "# Groundhog sightings as boolean values\n",
    "print(\"Boolean groundhog sighting shape:\", len(any_groundhogs_seen))"
   ]
  },
  {
   "cell_type": "markdown",
   "metadata": {},
   "source": [
    "The above values describe the basic _shapes_ of our lists: they are `4`, `5`, and `5` elements long. Again, I imagine that you read this and think \"alright, what's so special about that?\"\n",
    "\n",
    "If we use the bracket syntax we saw above, we can ask for the value which lives at a specific place in the list.\n",
    "\n",
    "We can select elements out of our lists and retrieve their values -- kind of like a well-packed box. So, if I know that my list (`shopping_list`) has `4` elements:"
   ]
  },
  {
   "cell_type": "code",
   "execution_count": 5,
   "metadata": {},
   "outputs": [
    {
     "name": "stdout",
     "output_type": "stream",
     "text": [
      "bananas peanut butter Clawparrazi gum\n"
     ]
    }
   ],
   "source": [
    "print(shopping_list[0], shopping_list[1], shopping_list[2], shopping_list[3])\n",
    "#                   ^ \n",
    "#                   |\n",
    "# As I have been referencing this semester, we start counting from position \"0\" here"
   ]
  },
  {
   "cell_type": "markdown",
   "metadata": {},
   "source": [
    "Here, as soon as we buy the gum, we can take it off the list easily, if we know its _index_ which happens to be `3`. Even though it's technically the fourth position in the list, when we discuss it we refer to it as having the `3`<sup>rd</sup> position -- because we start counting from the `0`<sup>th</sup>.\n",
    "\n",
    "<div class=\"alert alert-block alert-info\">\n",
    "Many programmers fall prey to the notorious \"off by one error,\" forgetting to start counting at <b>0</b> when working with things like data structures. Undoubtedly, you will too. But, reminding yourself to start at <b>n-1</b> (that is, the <b>n</b>umber of elements minus one) will get you back on track.\n",
    "</div>\n",
    "\n",
    "#### There's a better way...\n",
    "\n",
    "Of course it doesn't suprise you to know that there is an easier way to get the _exact_ index you're looking for in a list. We can _search for it_. This requires expanding our _syntax_ vocabulary just a bit more to include the `dot operator`. Using the this operator always follows the same syntax:\n",
    "\n",
    "`object`.`property(arguments)`\n",
    "\n",
    "All items in Python are `object`s. In turn, these objects have properties. A cup, for example, has the ability to hold liquid; it is made of a certain material that has weight and durability; it may or may not have a handle; this handle, if present, has a particular shape and size.\n",
    "\n",
    "`object`s in Python have properties, though not the same as our hypothetical cup. `list`s, in particular, have the property of having `index`es. \n",
    "\n",
    "* a _`property`_ is a characteristic of an `object` which defines specifics or behaviors of that `object`\n",
    "* a _`method`_ is a way to access or modify a `property` of an `object`\n",
    "\n",
    "So, we can ask the `list` for the specific place where the \"gum\" exists:"
   ]
  },
  {
   "cell_type": "code",
   "execution_count": 6,
   "metadata": {},
   "outputs": [
    {
     "data": {
      "text/plain": [
       "3"
      ]
     },
     "execution_count": 6,
     "metadata": {},
     "output_type": "execute_result"
    }
   ],
   "source": [
    "# Let's look for our gum\n",
    "shopping_list.index(\"gum\")\n",
    "#            ^\n",
    "#            |\n",
    "#    This dot constitutes \"dot notation\"."
   ]
  },
  {
   "cell_type": "markdown",
   "metadata": {},
   "source": [
    "We refer to `.index` as a _`method`_ of the object that accesses the _`property`_ of an object: the `index`es.\n",
    "\n",
    "The general form of `object`.`property` holds for more than just `list`s, as we'll see when we get to `string`s and other `object`s, but for now we can focus just on this characteristic of lists."
   ]
  },
  {
   "cell_type": "markdown",
   "metadata": {},
   "source": [
    "### Working with lists\n",
    "\n",
    "Now, let's return to our original problem: we want to cross the gum off our list. If it were part of a string, it becomes a bit complicated. However, as part of a `list`, it's smooth sailing. Now that we know we can find our gum in the list easily, we can _remove_ it from the `list` using another `method` of `list` called `remove`."
   ]
  },
  {
   "cell_type": "code",
   "execution_count": 7,
   "metadata": {},
   "outputs": [
    {
     "name": "stdout",
     "output_type": "stream",
     "text": [
      "['bananas', 'peanut butter', 'Clawparrazi']\n"
     ]
    }
   ],
   "source": [
    "# Get the place in the list where gum exists\n",
    "item_position = shopping_list.index(\"gum\")\n",
    "# Store the item in a variable to \"hold\" it\n",
    "item = shopping_list[item_position]\n",
    "# Delete that position from the list\n",
    "shopping_list.remove(item)\n",
    "# Print the list to prove we did it\n",
    "print(shopping_list)"
   ]
  },
  {
   "cell_type": "markdown",
   "metadata": {},
   "source": [
    "Well, we have to put the item in something to carry it. After all, I can't carry all this stuff at once. Let's add it to a new `list` called `basket` using a new method of `list`s called `append`:"
   ]
  },
  {
   "cell_type": "code",
   "execution_count": 8,
   "metadata": {},
   "outputs": [
    {
     "name": "stdout",
     "output_type": "stream",
     "text": [
      "['gum']\n"
     ]
    }
   ],
   "source": [
    "basket = []\n",
    "basket.append(item)\n",
    "print(basket)"
   ]
  },
  {
   "cell_type": "markdown",
   "metadata": {},
   "source": [
    "Like our discussion of `.index` above, `.append` accesses the _`property`_ of a `list` to have `index`es. The `method` (`.append`) modifies the `list` to add an item."
   ]
  },
  {
   "cell_type": "markdown",
   "metadata": {},
   "source": [
    "## Going to the hardware store\n",
    "\n",
    "After altering my contraption during our last quiz, I not only realized that I broke it, but that I voided the warranty. (That's what I get for being curious, I guess.)\n",
    "\n",
    "I need a few things from the local hardrware store to fix it. I need to you to make a list and, as you go get it for me to cross it off.\n",
    "\n",
    "Here's what I need:\n",
    "\n",
    "* A screwdriver\n",
    "* Copper wire\n",
    "* Standard wall socket (\"Edison\") plug\n",
    "* Spark plug\n",
    "* A candy bar to cope with the stress of breaking my machine\n",
    "\n",
    "Once you've found it, I need you to add it to a `list` called `basket`.\n",
    "\n",
    "### 1. In the space below, add `screwdriver`,`wire`,`wall plug`, `spark plug`, and `candy bar` to a list called `store_items` and `print` its `len` when you're done.\n",
    "\n",
    "Hint: each of these values is a `string`"
   ]
  },
  {
   "cell_type": "code",
   "execution_count": null,
   "metadata": {},
   "outputs": [],
   "source": [
    "# I've given you an empty basket\n",
    "basket = []\n",
    "\n",
    "# TODO"
   ]
  },
  {
   "cell_type": "markdown",
   "metadata": {},
   "source": [
    "### 2. Walking through the poorly-organized store aisles, you find the `spark plug` first. Put it in the `basket` and remove it from the `store_items` list. `print` `basket` and `store_items`."
   ]
  },
  {
   "cell_type": "code",
   "execution_count": null,
   "metadata": {},
   "outputs": [],
   "source": [
    "# TODO"
   ]
  },
  {
   "cell_type": "markdown",
   "metadata": {},
   "source": [
    "### 3. Next, you come upon the `screwdriver`. Add it to the `basket` and remove it from the `store_items` list."
   ]
  },
  {
   "cell_type": "code",
   "execution_count": null,
   "metadata": {},
   "outputs": [],
   "source": [
    "# TODO"
   ]
  },
  {
   "cell_type": "markdown",
   "metadata": {},
   "source": [
    "### 4. Alright, on to the `wire`. Do the same as the above for this item."
   ]
  },
  {
   "cell_type": "code",
   "execution_count": null,
   "metadata": {},
   "outputs": [],
   "source": [
    "# TODO"
   ]
  },
  {
   "cell_type": "markdown",
   "metadata": {},
   "source": [
    "### 5. The `wall plug` happens to be next. Do the same as the above for this item."
   ]
  },
  {
   "cell_type": "code",
   "execution_count": null,
   "metadata": {},
   "outputs": [],
   "source": [
    "# TODO"
   ]
  },
  {
   "cell_type": "markdown",
   "metadata": {},
   "source": [
    "### 6. You get to the register and find all of the `candy bar`s. Add it to the `basket` and remove it from the `store_items` list."
   ]
  },
  {
   "cell_type": "code",
   "execution_count": null,
   "metadata": {},
   "outputs": [],
   "source": [
    "# TODO"
   ]
  },
  {
   "cell_type": "markdown",
   "metadata": {},
   "source": [
    "### 6A. Look, I know everyone gets hungry. You eat the `candy bar`. Remove it from the `basket`.\n",
    "\n",
    "Hint: I would've done the same thing to you."
   ]
  },
  {
   "cell_type": "code",
   "execution_count": null,
   "metadata": {},
   "outputs": [],
   "source": [
    "# TODO"
   ]
  },
  {
   "cell_type": "markdown",
   "metadata": {},
   "source": [
    "## Finishing this activity\n",
    "\n",
    "* Run the cells below to check your work.\n",
    "  * `basket` should have `4` items\n",
    "  * `store_items` should have `0` items\n",
    " "
   ]
  },
  {
   "cell_type": "code",
   "execution_count": null,
   "metadata": {},
   "outputs": [],
   "source": [
    "print(\"The basket has\", len(basket), \"items\")"
   ]
  },
  {
   "cell_type": "code",
   "execution_count": null,
   "metadata": {},
   "outputs": [],
   "source": [
    "print(\"The store_items list has\", len(store_items), \"items\")"
   ]
  }
 ],
 "metadata": {
  "kernelspec": {
   "display_name": "Python 3",
   "language": "python",
   "name": "python3"
  },
  "language_info": {
   "codemirror_mode": {
    "name": "ipython",
    "version": 3
   },
   "file_extension": ".py",
   "mimetype": "text/x-python",
   "name": "python",
   "nbconvert_exporter": "python",
   "pygments_lexer": "ipython3",
   "version": "3.8.5"
  }
 },
 "nbformat": 4,
 "nbformat_minor": 4
}
