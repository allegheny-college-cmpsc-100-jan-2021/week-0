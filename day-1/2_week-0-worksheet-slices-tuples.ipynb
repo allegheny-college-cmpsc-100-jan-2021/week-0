{
 "cells": [
  {
   "cell_type": "markdown",
   "metadata": {},
   "source": [
    "# Worksheet 0.1.2: Data structures (tuples, lists, and \"slices\")\n",
    "\n",
    "<div class=\"alert alert-block alert-warning\">\n",
    "    <p>To use this worksheet, click the <b>Kernel</b> menu and click <b>Restart Kernel and Run All Cells</b> to run the code below to set up the activity at the end.</p>\n",
    "    <p>Otherwise, you can press <b>SHIFT</b> + <b>ENTER</b> in each <b>code</b> cell to run the code to prepare it.</p>\n",
    "</div>\n",
    "\n",
    "## `tuple` or not `tuple`: that is the question\n",
    "\n",
    "Let's jump right in and have a look at a `tuple`:"
   ]
  },
  {
   "cell_type": "code",
   "execution_count": null,
   "metadata": {},
   "outputs": [],
   "source": [
    "integers = (0, 1, 2, 3, 4, 5, 6, 7, 8, 9)\n",
    "print(integers)"
   ]
  },
  {
   "cell_type": "markdown",
   "metadata": {},
   "source": [
    "You're probably reading this worksheet and thinking to yourself \"OK, `tuple`s are basically lists. So what gives?\" You're right, `tuple`s are like lists. They behave the same way _except_ that `tuple`s can't be modified in the same way. In addition, there are a few small differences in how we might use them:\n",
    "\n",
    "1. there is no `del` function that we can use on a tuple\n",
    "2. we can't `append` anything to them, though through some trickery we can `+` to them\n",
    "\n",
    "So what are `tuple`s used for? Well, quite a few things that we'll see in the future, and quite a few things that you've already done. For example, any time we pass `arguments` to a `function` or a `method`, we're really using a secret `tuple`.\n",
    "\n",
    "Conveniently, we can test some of our `list` skills with them, and expand our knowledge of _data structures_. So, let's review a bit from our last worksheet.\n",
    "\n",
    "\n",
    "### `print` each of the following:\n",
    "\n",
    "\n",
    "#### 1. The 6<sup>th</sup> item in the `integers` `tuple`.\n",
    "\n",
    "Hint: this is tricky because I'm asking for the 6<sup>th</sup> item."
   ]
  },
  {
   "cell_type": "code",
   "execution_count": null,
   "metadata": {},
   "outputs": [],
   "source": [
    "print(integers[5])"
   ]
  },
  {
   "cell_type": "markdown",
   "metadata": {},
   "source": [
    "#### 2. What about the 1<sup>st</sup> item in the `tuple`?"
   ]
  },
  {
   "cell_type": "code",
   "execution_count": null,
   "metadata": {},
   "outputs": [],
   "source": [
    "print(integers[0])"
   ]
  },
  {
   "cell_type": "markdown",
   "metadata": {},
   "source": [
    "#### 3. What's the sum of the 2<sup>nd</sup>, 3<sup>rd</sup>, and 9<sup>th</sup> item in the `tuple`?"
   ]
  },
  {
   "cell_type": "code",
   "execution_count": null,
   "metadata": {},
   "outputs": [],
   "source": [
    "print(integers[1] + integers[2] + integers[8])"
   ]
  },
  {
   "cell_type": "markdown",
   "metadata": {},
   "source": [
    "### Joining `tuple`s\n",
    "\n",
    "As referenced above, there is a sneaky way we can _add_ to `tuple`s. Just like the way the `+` operator works with number and `string` types, we can use the operator to _join_ tuples:"
   ]
  },
  {
   "cell_type": "code",
   "execution_count": null,
   "metadata": {},
   "outputs": [],
   "source": [
    "negative_integers = (-9, -8, -7, -6, -5, -4, -3, -2, -1)\n",
    "integers = negative_integers + integers\n",
    "print(integers)"
   ]
  },
  {
   "cell_type": "markdown",
   "metadata": {},
   "source": [
    "### What else so `tuple`s and `list`s have in common?\n",
    "\n",
    "One feature that we didn't talk about in the `list`s worksheet is something referred to as \"slicing.\" This gives us the ability to get parts of a `tuple` or `list`. We're already familiar with `index`es:"
   ]
  },
  {
   "cell_type": "code",
   "execution_count": null,
   "metadata": {},
   "outputs": [],
   "source": [
    "# An example of an index\n",
    "cat_names = [\"Ulysses\", \"Snooze Magoo\", \"Mr. U\", \"The Boss\"]\n",
    "print(\"My cat's name: \", cat_names[0]) # That's his real name, but we call him that the least"
   ]
  },
  {
   "cell_type": "markdown",
   "metadata": {},
   "source": [
    "Honestly, I think my cat has forgotten his name. We refer to him by the other three more often. So, let's extract those out into a variable I'm going to call `common_cat_names` using _slicing syntax_:"
   ]
  },
  {
   "cell_type": "code",
   "execution_count": null,
   "metadata": {},
   "outputs": [],
   "source": [
    "# Here, [1:] means \"index 1 to the end\n",
    "common_cat_names = cat_names[1:]\n",
    "print(common_cat_names)"
   ]
  },
  {
   "cell_type": "markdown",
   "metadata": {},
   "source": [
    "But, we can slice this any number of ways, including _backwards_:"
   ]
  },
  {
   "cell_type": "code",
   "execution_count": null,
   "metadata": {},
   "outputs": [],
   "source": [
    "# The first three\n",
    "print(\"First three:\", cat_names[:3])\n",
    "\n",
    "# A slice starting at position one and stopping, not including, position 3\n",
    "print(\"Start at one, stop before position 3:\", cat_names[1:3])\n",
    "\n",
    "# Every two\n",
    "print(\"Evens:\", cat_names[1::2])\n",
    "print(\"Odds:\", cat_names[0::2])\n",
    "\n",
    "# Backwards\n",
    "\n",
    "print(\"Backwards:\", cat_names[::-1])"
   ]
  },
  {
   "cell_type": "markdown",
   "metadata": {},
   "source": [
    "#### Negative indexing\n",
    "\n",
    "The last one points at something else we can do: _negative indexing_, that is start counting from the _end_ of the `list` or `tuple`."
   ]
  },
  {
   "cell_type": "code",
   "execution_count": null,
   "metadata": {},
   "outputs": [],
   "source": [
    "# Get the last value\n",
    "print(cat_names[-1])\n",
    "# Get the second to last value\n",
    "print(cat_names[-2])"
   ]
  },
  {
   "cell_type": "markdown",
   "metadata": {},
   "source": [
    "### Test drive\n",
    "\n",
    "Let's perform some operations on our variable `integers`. `print` the result of each of the following operations:\n",
    "  \n",
    "#### 1. A slice starting at position 3 and continuing until position 10."
   ]
  },
  {
   "cell_type": "code",
   "execution_count": null,
   "metadata": {},
   "outputs": [],
   "source": [
    "# TODO"
   ]
  },
  {
   "cell_type": "markdown",
   "metadata": {},
   "source": [
    "#### 2. Every even number in `integers`"
   ]
  },
  {
   "cell_type": "code",
   "execution_count": null,
   "metadata": {},
   "outputs": [],
   "source": [
    "# TODO"
   ]
  },
  {
   "cell_type": "markdown",
   "metadata": {},
   "source": [
    "#### 3. Every odd number in `integers`"
   ]
  },
  {
   "cell_type": "code",
   "execution_count": null,
   "metadata": {},
   "outputs": [],
   "source": [
    "# TODO"
   ]
  },
  {
   "cell_type": "markdown",
   "metadata": {},
   "source": [
    "#### 4. The entire `tuple` backwards"
   ]
  },
  {
   "cell_type": "code",
   "execution_count": null,
   "metadata": {},
   "outputs": [],
   "source": [
    "# TODO"
   ]
  },
  {
   "cell_type": "markdown",
   "metadata": {},
   "source": [
    "#### 5. A slice starting at the _last_ position in the `tuple` and showing every 3<sup>rd</sup> number\n",
    "\n",
    "Hint: Also can be read as \"every multiple of 3\""
   ]
  },
  {
   "cell_type": "code",
   "execution_count": null,
   "metadata": {},
   "outputs": [],
   "source": [
    "# TODO"
   ]
  },
  {
   "cell_type": "markdown",
   "metadata": {},
   "source": [
    "#### 6. Only the _last_ number in the `tuple`."
   ]
  },
  {
   "cell_type": "code",
   "execution_count": null,
   "metadata": {},
   "outputs": [],
   "source": [
    "# TODO"
   ]
  },
  {
   "cell_type": "markdown",
   "metadata": {},
   "source": [
    "## Finishing this activity\n",
    "\n",
    "* If you've finished all of the cells above, move on to the next worksheet.\n",
    " "
   ]
  }
 ],
 "metadata": {
  "kernelspec": {
   "display_name": "Python 3",
   "language": "python",
   "name": "python3"
  },
  "language_info": {
   "codemirror_mode": {
    "name": "ipython",
    "version": 3
   },
   "file_extension": ".py",
   "mimetype": "text/x-python",
   "name": "python",
   "nbconvert_exporter": "python",
   "pygments_lexer": "ipython3",
   "version": "3.8.5"
  }
 },
 "nbformat": 4,
 "nbformat_minor": 4
}
