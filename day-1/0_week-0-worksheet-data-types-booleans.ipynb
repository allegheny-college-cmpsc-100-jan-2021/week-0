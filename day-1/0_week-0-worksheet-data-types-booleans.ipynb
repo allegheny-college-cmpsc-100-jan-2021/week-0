{
 "cells": [
  {
   "cell_type": "markdown",
   "metadata": {
    "deletable": false,
    "editable": false
   },
   "source": [
    "# Worksheet 0.1.0: Data types (booleans)\n",
    "\n",
    "## True or false\n",
    "\n",
    "Simple enough question, right?\n",
    "\n",
    "Well, depending on the amount and complexity of any given situation, perhaps not so easy. But, programming has ability to deal in absolutes. So, for at least this worksheet, we're going to deal in the certainties of `True` and `False`, or `boolean` values.\n",
    "\n",
    "Quite literally, a variable which holds a `boolean` value _can only be `True` or `False`_. This might not seem useful to you right now, but by the end of this worksheet, you'll be ready to see that there's quite a bit of utility here.\n",
    "\n",
    "Recall that, in our last last set of worksheets, we made the broad gesture to say that:\n",
    "\n",
    "$$variable = expression$$\n",
    "\n",
    "was our format. `boolean` values follow the same general rule, only the `expression` evaluates to `True` or `False` instead of a discrete numeric or string value. These aren't the `string` values `\"True\"` or `\"False\"`, they're the _actual values_.\n",
    "\n",
    "We've already seen one of these, though it might not have been clear at at the time:\n",
    "\n",
    "```python\n",
    "bananas == 1.0\n",
    "```\n",
    "\n",
    "Recall that the `==` means _a test of equality_ here. `=` _always_ means *assignment*. We also have access to several other `relational operators` that we can use to test the \"truthiness\" (that is, the property of an expression to be `True` or `False):\n",
    "\n",
    "<a href = \"#\" name = \"Relational-operators\"></a>\n",
    "\n",
    "|Operator | Meaning |\n",
    "|---------|---------|\n",
    "|`>`      | greater than |\n",
    "|`<`      | less than |\n",
    "|`>=`     | greater than or equal to |\n",
    "| `<=`    | less than or equal to |\n",
    "|`!=`     | not equal to |\n",
    "|`==`     | equal to    |"
   ]
  },
  {
   "cell_type": "markdown",
   "metadata": {
    "deletable": false,
    "editable": false
   },
   "source": [
    "### 1. Test the following equalities.\n",
    "\n",
    "* For each equality, `print` the result\n",
    "* The result printed should either be `True` or `False`\n",
    "* Create and assign values to use where requested in this section according to the table below\n",
    "\n",
    "|Variable | Value |\n",
    "|---------|-------|\n",
    "|`cats`     | 9     |\n",
    "|`dogs`     | 2     |\n",
    "|`gators`   | 8     |\n",
    "|`snakes`   | 9     |"
   ]
  },
  {
   "cell_type": "code",
   "execution_count": null,
   "metadata": {},
   "outputs": [],
   "source": [
    "# Assign variables here\n",
    "\n",
    "# TODO"
   ]
  },
  {
   "cell_type": "markdown",
   "metadata": {
    "deletable": false,
    "editable": false
   },
   "source": [
    "#### Is `cats` greater than `dogs`?"
   ]
  },
  {
   "cell_type": "code",
   "execution_count": null,
   "metadata": {},
   "outputs": [],
   "source": [
    "# TODO"
   ]
  },
  {
   "cell_type": "markdown",
   "metadata": {
    "deletable": false,
    "editable": false
   },
   "source": [
    "That was an easy one. We knew that already.\n",
    "\n",
    "#### Is `gators` less than or equal to `snakes`?"
   ]
  },
  {
   "cell_type": "code",
   "execution_count": null,
   "metadata": {},
   "outputs": [],
   "source": [
    "# TODO"
   ]
  },
  {
   "cell_type": "markdown",
   "metadata": {
    "deletable": false,
    "editable": false
   },
   "source": [
    "#### Is `gators` less than `dogs`?"
   ]
  },
  {
   "cell_type": "code",
   "execution_count": null,
   "metadata": {},
   "outputs": [],
   "source": [
    "# TODO"
   ]
  },
  {
   "cell_type": "markdown",
   "metadata": {
    "deletable": false,
    "editable": false
   },
   "source": [
    "#### Are `cats` and `snakes` equal?"
   ]
  },
  {
   "cell_type": "code",
   "execution_count": null,
   "metadata": {},
   "outputs": [],
   "source": [
    "# TODO"
   ]
  },
  {
   "cell_type": "markdown",
   "metadata": {
    "deletable": false,
    "editable": false
   },
   "source": [
    "#### Are `gators` and `dogs` _not equal_ to each other?"
   ]
  },
  {
   "cell_type": "code",
   "execution_count": null,
   "metadata": {},
   "outputs": [],
   "source": [
    "# TODO"
   ]
  },
  {
   "cell_type": "markdown",
   "metadata": {
    "deletable": false,
    "editable": false
   },
   "source": [
    "## Logical operators"
   ]
  },
  {
   "cell_type": "markdown",
   "metadata": {
    "deletable": false,
    "editable": false
   },
   "source": [
    "We have [relational operators](#Relational-operators), sure. But, there also exist a category of _logical operators_ to help us test if a logical conjunction or disjunction is true.\n",
    "\n",
    "What the heck do I mean by \"conjunction\" and \"disjunction\"? Specifically `and` and `or`. Here:\n",
    "\n",
    "* `and` operators mean that everything they join _must be true_\n",
    "* `or` operators mean that _one_ of the joined valued _must be true_\n",
    "\n",
    "Some examples:\n",
    "\n",
    "```python\n",
    "# Here, 7 has to be less than 8 and 9 must be greater than 2\n",
    "7 < 8 and 9 > 2\n",
    "\n",
    "# Here, it only matters that one of these is true\n",
    "7 < 8 or 9 > 2\n",
    "```\n",
    "\n",
    "We can also use them to test equalities:\n",
    "\n",
    "```python\n",
    "# True if cats is equal to snakes and dogs is less than cats\n",
    "cats == snakes and dogs < cats\n",
    "\n",
    "# True if dogs does not equal cats or gators is less than snakes\n",
    "dogs != cats or gators < snakes\n",
    "```\n",
    "\n",
    "Essentially, this `True`/`False` taxonomy is what powers the very computer you're working on: `binary` values are either `1` or `0`, and often represent \"on\" and \"off\" (`True`, `False`: respectively). Transistors are essentially switches and there are many millions of them in the processor powering this notebook.\n",
    "\n",
    "(Fun fact: the first processors only had a few thousand transitors (\"switches\") on board; contemporary processors' transitor counts number in the billions.)\n",
    "\n",
    "We'll continue with the above idea of a two-state (\"on\"/\"off\") switch as our guide here. We have a widget made of switches which does certain things when a combination of them are on or off (`True`, `False`).\n",
    "\n",
    "Let's say we only have `4` of them though, set like so:\n",
    "\n",
    "|Switch | Value |\n",
    "|-------|-------|\n",
    "|`switch_a` | False |\n",
    "|`switch_b` | True |\n",
    "|`switch_c` | False |\n",
    "|`switch_d` | True |\n",
    "\n",
    "For each prompt below:\n",
    "\n",
    "* Assign the results to an identifier called `result`\n",
    "* `print` `result`\n",
    "\n",
    "An example statement might look like:\n",
    "\n",
    "```python\n",
    "result = switch_a and switch_d\n",
    "```\n",
    "\n",
    "Notice that we can type and compare these _directly_ without typing `switch_a == True`. These are already `boolean` values, so they've evaluated down to their simplest form. Testing them using logical operators _automatically_ compares them."
   ]
  },
  {
   "cell_type": "code",
   "execution_count": null,
   "metadata": {},
   "outputs": [],
   "source": [
    "# TODO: Assign switches and boolean values"
   ]
  },
  {
   "cell_type": "markdown",
   "metadata": {
    "deletable": false,
    "editable": false
   },
   "source": [
    "####  Compare `switch_a` and `switch_b`. If _they are both on_ a light will light up on our widget. Does it?"
   ]
  },
  {
   "cell_type": "code",
   "execution_count": null,
   "metadata": {},
   "outputs": [],
   "source": [
    "# TODO"
   ]
  },
  {
   "cell_type": "markdown",
   "metadata": {
    "deletable": false,
    "editable": false
   },
   "source": [
    "#### If either `switch_d` or `switch_c` are \"on\" (`True`), a door on the widget opens. Does it happen?"
   ]
  },
  {
   "cell_type": "code",
   "execution_count": null,
   "metadata": {},
   "outputs": [],
   "source": [
    "# TODO"
   ]
  },
  {
   "cell_type": "markdown",
   "metadata": {
    "deletable": false,
    "editable": false
   },
   "source": [
    "We could have known all this by implementing a practice known as a \"truth table.\" For groups of `boolean` values, we can actually map out what we discovered by calculation above. For `switch_a` and `switch_b`, for example:\n",
    "\n",
    "|`switch_a`|`switch_b`|`and`|`or`|\n",
    "|----------|----------|-----|----|\n",
    "|`True`    |`True`    |`True`|`True`|\n",
    "|`True`    |`False`   |`False`|`True`|\n",
    "|`False`   |`True`    |`False`|`True`|\n",
    "|`False`   |`False`   |`False`|`False`|\n",
    "\n",
    "(We could make one for _all_ the switches, but who has time like that?)\n",
    "\n",
    "It probably doesn't suprise you that we can get even more complicated with how we evaluate multiple items. Based on what you know, code the following scenarios."
   ]
  },
  {
   "cell_type": "markdown",
   "metadata": {
    "deletable": false,
    "editable": false
   },
   "source": [
    "#### Our widget has a condition in which _all_ the lights turn on: if `switch_a` and `switch_b` are \"on\" (`True`) or `switch_d` is on by itself. Does this happen given our current configuration of variables?"
   ]
  },
  {
   "cell_type": "code",
   "execution_count": null,
   "metadata": {},
   "outputs": [],
   "source": [
    "# TODO"
   ]
  },
  {
   "cell_type": "markdown",
   "metadata": {
    "deletable": false,
    "editable": false
   },
   "source": [
    "A further wrinkle: there's actually _another_ logical operator: `not`. This operator tests if a `boolean` value is the _opposite_:\n",
    "\n",
    "```python\n",
    "not True\n",
    "```\n",
    "> False\n",
    "\n",
    "```python\n",
    "not False\n",
    "```\n",
    "> True\n",
    "\n",
    "#### If `switch_c` is off (`False`) and `switch_b` is on (`True`), all the doors on the widget open. Do all the doors open?"
   ]
  },
  {
   "cell_type": "code",
   "execution_count": null,
   "metadata": {},
   "outputs": [],
   "source": [
    "# TODO"
   ]
  },
  {
   "cell_type": "markdown",
   "metadata": {
    "deletable": false,
    "editable": false
   },
   "source": [
    "## Finishing this activity\n",
    "\n",
    "If you've finished all of the questions -- you can move on!"
   ]
  }
 ],
 "metadata": {
  "kernelspec": {
   "display_name": "Python 3",
   "language": "python",
   "name": "python3"
  },
  "language_info": {
   "codemirror_mode": {
    "name": "ipython",
    "version": 3
   },
   "file_extension": ".py",
   "mimetype": "text/x-python",
   "name": "python",
   "nbconvert_exporter": "python",
   "pygments_lexer": "ipython3",
   "version": "3.8.5"
  }
 },
 "nbformat": 4,
 "nbformat_minor": 4
}
