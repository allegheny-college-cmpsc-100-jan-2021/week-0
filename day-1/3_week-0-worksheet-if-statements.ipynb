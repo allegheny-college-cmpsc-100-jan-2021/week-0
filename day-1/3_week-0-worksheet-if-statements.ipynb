{
 "cells": [
  {
   "cell_type": "markdown",
   "metadata": {
    "deletable": false,
    "editable": true
   },
   "source": [
    "# Week 01, Worksheet 0: Python syntax (`if` statements)\n",
    "\n",
    "<div class=\"alert alert-block alert-info\">\n",
    "This worksheet will invite you to tinker with the examples, as they are live code cells. Instead of the normal fill-in-the-blank style of notebook, feel free to mess with the code directly. Remember that -- to test things out -- the <a href = \"../sandbox/CMPSC%20100%20-%20Week%2000%20-%20Sandbox.ipynb\"><b>Sandbox</b></a> is available to you as well.\n",
    "</div>\n",
    "\n",
    "<div class=\"alert alert-block alert-warning\">\n",
    "While grading, you will see a line referencing the following characters:<br/><br/>\n",
    "    <pre>\\ud83c\\udf89\\ud83c\\udf89\\ud83c\\udf89</pre></br>\n",
    "These refer to the characters:</br></br>\n",
    "    <pre>🎉🎉🎉</pre>\n",
    "</div>\n",
    "\n",
    "## `if` I complete this worksheet...\n",
    "\n",
    "`if` statements depart a bit from our traditional Python syntax. Whereas we've been focusing on assignment, and now relative equality, our work takes us into an area of programming which contemplates _how code actually_ runs. Why talk about this now instead of last week? Because we're going to mess with it a bit.\n",
    "\n",
    "## Flow of control (or control flow)\n",
    "\n",
    "How do we understand the following code snippet to run?\n",
    "\n",
    "```python\n",
    "# We have five widgets\n",
    "widgets = 5\n",
    "\n",
    "# The Professor gives us five more\n",
    "widgets += 5\n",
    "\n",
    "# Due to a complex social situation, we owe 9/10 of our widgets to friends\n",
    "widget -= .90 * widgets\n",
    "\n",
    "# While once rich with widgets, we now have...\n",
    "print(widgets)\n",
    "```\n",
    "\n",
    "I can hear you through the internet: TOP TO BOTTOM! You're right. And code will _generally_ still follow this rule, which implies (for the above code):\n",
    "\n",
    "* Variables must be created before we can use them\n",
    "* If the value of a variable changes over time, the most recent assignments \"wins\"\n",
    "* Whatever the value of the variable is at the end of the code is the final value\n",
    "\n",
    "These will all still be true, but sometimes (depending on circumstances), we can jump ahead a bit.\n",
    "\n",
    "## Back to `if` statements\n",
    "\n",
    "Sometimes we want make different decisions in our code based on whether or not a condition is `True`. In this case, we engage branching logic to assist us in our programmatic decision-making by using the `if` statement. This statemet takes the general form of:\n",
    "\n",
    "```python\n",
    "if CONDITION:\n",
    "    # Functionality if true\n",
    "```\n",
    "Here, `CONDITION` substitutes for some `boolean` value or expression which _must be true_. \n",
    "\n",
    "Notice also that the line proceeding the `if` portion of the statement is **_indented 4 spaces_**. Indentation is an important part of the Python language: it identifies what _belongs to_ this branch of our \"branching logic\": the `# Functionality if true` portion should only work if the `CONDITION` true. If not, it skips it. So:\n",
    "\n",
    "```python\n",
    "if widgets > 5:\n",
    "    print(\"We're better off than we were before!\")\n",
    "```\n",
    "\n",
    "But, as we know from our example, we're not better off -- we actually only have `1` widget left! We need to be able to accomodate this.\n",
    "\n",
    "```python\n",
    "if widgets > 5:\n",
    "    print(\"We're better off than we were before!\")\n",
    "else:\n",
    "    print(\"Somewhere we lost some widgets...\")\n",
    "```\n",
    "\n",
    "Here, we use an `else` clause to indicate what to do if the `CONDITION` (in this case, `widgets > 5`) isn't true.\n",
    "\n",
    "Let's say, for sake of example, if we're completely out of widgets we want to do something else. We have the following situation:\n",
    "\n",
    "* If `widgets > 5`, we're rich\n",
    "* If `widgets < 5` but still `widgets > 0`, at least we have a widget left\n",
    "* If `widgets == 0`, we're probably sad\n",
    "\n",
    "How do we model that in code?\n",
    "\n",
    "```python\n",
    "if widgets > 5:\n",
    "    print(\"We're rich!\")\n",
    "elif widgets < 5 and widgets > 0:\n",
    "    print(\"At least we still have one.\")\n",
    "else:\n",
    "    print(\"Oh no! No widgets. But, look! The Professor gave us one!\")\n",
    "    widgets +=1\n",
    "print(widgets)\n",
    "```\n",
    "\n",
    "Okay, okay, so I was nice. But, there are two things to notice about the above code:\n",
    "\n",
    "* There's this new thing called the `elif` or \"else if\"\n",
    "* We can use as many statements as we want in a branch\n",
    "\n",
    "Both are important. First, we can always add as many conditions as we want at any point. We already know about `relational` and `logical` combinations (`widgets < 5 and widgets > 0`), but the `elif` or \"else if\" allows us to do something else _in very specific cases_.\n",
    "\n",
    "In addition, we can write as many statements or expressions as we want in an `if` clause, as we see in the `else` branch of the statement above.\n",
    "\n",
    "Of course, we could go overboard:"
   ]
  },
  {
   "cell_type": "code",
   "execution_count": 1,
   "metadata": {},
   "outputs": [
    {
     "name": "stdout",
     "output_type": "stream",
     "text": [
      "Oh no! We only have the 1 widget! But, look -- The Professor gave us another one!\n",
      "In the end, we have 2 widgets.\n"
     ]
    }
   ],
   "source": [
    "# TINKER AWAY!\n",
    "\n",
    "# We have five widgets\n",
    "widgets = 5\n",
    "\n",
    "# The Professor gives us five more\n",
    "widgets += 5\n",
    "\n",
    "# Due to a complex social situation, we owe 9/10 of our widgets to friends\n",
    "widgets -= .90 * widgets\n",
    "\n",
    "if widgets > 5:\n",
    "    print(\"We're rich!\")\n",
    "elif widgets == 4:\n",
    "    print(\"Not as many as before, but not so bad.\")\n",
    "elif widgets > 1:\n",
    "    print(\"Hm. We lost several somewhere...\")\n",
    "else:\n",
    "    print(\"Oh no! We only have the 1 widget! But, look -- The Professor gave us another one!\")\n",
    "    widgets +=1\n",
    "print(\"In the end, we have \" + str(int(widgets)) + \" widgets.\")"
   ]
  },
  {
   "cell_type": "markdown",
   "metadata": {
    "deletable": false,
    "editable": true
   },
   "source": [
    "Answer these questions about the above example. Feel free to modify the code above to check your work.\n",
    "\n",
    "#### 1. How many widgets do we need to have to display the message `Not as many as before, but not so bad.`?"
   ]
  },
  {
   "cell_type": "markdown",
   "metadata": {},
   "source": [
    "`TODO`"
   ]
  },
  {
   "cell_type": "markdown",
   "metadata": {
    "deletable": false,
    "editable": true
   },
   "source": [
    "#### 2. How many widgets will trigger the message `Hm. We lost several somewhere...`?"
   ]
  },
  {
   "cell_type": "markdown",
   "metadata": {},
   "source": [
    "`TODO`"
   ]
  },
  {
   "cell_type": "markdown",
   "metadata": {},
   "source": [
    "#### 3. Given what the final value of `widgets` is, what message will ultimately display, and what is the final value of `widgets`? (Hint: I'm nice. Sometimes.)`TODO`"
   ]
  },
  {
   "cell_type": "markdown",
   "metadata": {},
   "source": [
    "`TODO`"
   ]
  },
  {
   "cell_type": "markdown",
   "metadata": {
    "deletable": false,
    "editable": true
   },
   "source": [
    "#### 3. Assign various numbers to the first statement (`widgets = 5`). Is there a way to trick the statement? Why or why not?"
   ]
  },
  {
   "cell_type": "markdown",
   "metadata": {},
   "source": [
    "`TODO`"
   ]
  },
  {
   "cell_type": "markdown",
   "metadata": {
    "deletable": false,
    "editable": true
   },
   "source": [
    "\n",
    "### What does this have to do with that \"flow of control\" thing?\n",
    "\n",
    "Good question. Thanks for asking.\n",
    "\n",
    "As we see in our examples above, our code still runs from top to bottom. However, we skip portions of it that do or don't run based on various conditions that vary as to their relative \"truthiness.\" So, we can think of this as a frustration of the flow of control, not a negation of it. It diagrams like this:\n",
    "\n",
    "![If this_diagram](https://cs.allegheny.edu/sites/dluman/cmpsc100/cmpsc-100-if-flow.png)\n",
    "\n",
    "Each of the paths ends at `print(widgets)`, but as we can see the value of `widgets` at that moment is contingent on which \"branch\" the statement follows.\n",
    "\n",
    "#### A note on assignments\n",
    "\n",
    "This means that, occasionally, we need to assign variables _outside_ of our structures in order to use them -- this follows the rule that variables have to _exist_ before we can modify or call on them. Imagine the following:\n",
    "\n",
    "```python\n",
    "# We can't do this; truthiness hasn't been created yet\n",
    "\n",
    "if True:\n",
    "    truthiness += 1\n",
    "```"
   ]
  },
  {
   "cell_type": "markdown",
   "metadata": {},
   "source": [
    "Here, we have a new options to assign variables to either `0` or `\"\"` values. We can also assign variables to `None` -- essentially, _nothing_. It's kind of like someone in Congress voting \"present.\"\n",
    "\n",
    "To do this, all we have to do is remember our data types, and work accordingly:\n",
    "\n",
    "```python\n",
    "a_number = 0\n",
    "a_number = None\n",
    "\n",
    "a_string = \"\"\n",
    "a_string = None\n",
    "\n",
    "a_boolean = None\n",
    "```"
   ]
  }
 ],
 "metadata": {
  "kernelspec": {
   "display_name": "Python 3",
   "language": "python",
   "name": "python3"
  },
  "language_info": {
   "codemirror_mode": {
    "name": "ipython",
    "version": 3
   },
   "file_extension": ".py",
   "mimetype": "text/x-python",
   "name": "python",
   "nbconvert_exporter": "python",
   "pygments_lexer": "ipython3",
   "version": "3.8.5"
  }
 },
 "nbformat": 4,
 "nbformat_minor": 4
}
