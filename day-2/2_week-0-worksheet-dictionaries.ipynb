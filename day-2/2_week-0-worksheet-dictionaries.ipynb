{
 "cells": [
  {
   "cell_type": "markdown",
   "metadata": {},
   "source": [
    "# Worksheet 0.2.0: Data structures (`dictionary`)\n",
    "\n",
    "<div class=\"alert alert-block alert-info\">\n",
    "This worksheet will invite you to tinker with the examples, as they are live code cells. Instead of the normal fill-in-the-blank style of notebook, feel free to mess with the code directly. Remember that -- to test things out -- the <a href = \"../sandbox/week-0-sandbox.ipynb\"><b>Sandbox</b></a> is available to you as well.\n",
    "</div>\n",
    "\n",
    "<div class=\"alert alert-block alert-warning\" id = \"warning\">\n",
    "The work this week also offers the opportunity to tie up the server in loopish operations. Should you be unable to run cells, simply locate the <b>Kernel</b> menu at the top of the screen and click <b>Interrupt Kernel</b>. This should jumpstart the kernel again and clear out the infinite loop behavior.</div>\n",
    "\n",
    "## Looking it up in a `dict`ionary\n",
    "\n",
    "If you're like me, you find `list`s to be pure chaos. We can't avoid them -- and they have their uses -- but I like my data to be prettier, neater, and easier to reference. For example, in our last worksheet, we looked a well which was modeled by the following `list`:"
   ]
  },
  {
   "cell_type": "code",
   "execution_count": null,
   "metadata": {},
   "outputs": [],
   "source": [
    "well_production = [1440, 1750, 1230, 980, 1900, 1475, 730]"
   ]
  },
  {
   "cell_type": "markdown",
   "metadata": {},
   "source": [
    "Now, I know that we're pretty confident that our table of `7` values maps easily to the `7` days of the week. But, how can we be so sure? Just because the professor tells you? In computer science, some assumptions lead down poorly-built roads.\n",
    "\n",
    "When specifying details and providing order, we want a `dictionary`. Our well water example might look like this:"
   ]
  },
  {
   "cell_type": "code",
   "execution_count": null,
   "metadata": {},
   "outputs": [],
   "source": [
    "daily_well_production = {\n",
    "    \"Sunday\": 1440,\n",
    "    \"Monday\": 1750,\n",
    "    \"Tuesday\": 1230,\n",
    "    \"Wednesday\": 980,\n",
    "    \"Thursday\": 1900,\n",
    "    \"Friday\": 1475,\n",
    "    \"Saturday\": 730\n",
    "}\n",
    "print(daily_well_production)"
   ]
  },
  {
   "cell_type": "markdown",
   "metadata": {},
   "source": [
    "You're right to think that this is a little more than different. What we have in common here is that values are separated by commas -- but, beyond that, we're in new territory.\n",
    "\n",
    "What we see in the above data structure is a series of `key:value` pairs, also referred to as \"associative\" data. It's referred to that way because each value is _associated_ with another corresponding `key`. For example:\n",
    "\n",
    "|Key     |Value       |\n",
    "|--------|------------|\n",
    "|Sunday  | 1440       |\n",
    "|Monday  | 1750       |\n",
    "|Tuesday | 1230       |\n",
    "|Wednesday| 980       |\n",
    "|Thursday | 1900      |\n",
    "|Friday   | 1475      |\n",
    "|Saturday | 730       |\n",
    "\n",
    "Also of note: our _syntax_. Recalling our `list` and `tuple` notation and adding a new rule about `dict` data structures, we can now say:\n",
    "\n",
    "|Structure |Denotation |\n",
    "|----------|-----------|\n",
    "|`list`    | `[]`      |\n",
    "|`tuple`   | `()`      |\n",
    "|`dict`    | `{}`      |\n",
    "\n",
    "To create empty versions of each:"
   ]
  },
  {
   "cell_type": "code",
   "execution_count": 3,
   "metadata": {},
   "outputs": [],
   "source": [
    "# list\n",
    "a_list = []\n",
    "# tuple\n",
    "a_tuple = ()\n",
    "# dict\n",
    "a_dict = {}"
   ]
  },
  {
   "cell_type": "markdown",
   "metadata": {},
   "source": [
    "### `key`s vs. `index`es\n",
    "\n",
    "For `dict` object, the concept of the `index` works a bit differently. Revisitng our `daily_well_production`, we _cannot_ say `daily_well_production[0]`. In fact, we can't address any of the `index`es of a `dict` for one simply reason: _`dict` objects **don't have indexes**_.\n",
    "\n",
    "Instead, they have `keys`. In many ways, these are easier than thinking about addresses or positions in a `list`. `dict` structures still have a `len`:"
   ]
  },
  {
   "cell_type": "code",
   "execution_count": 4,
   "metadata": {},
   "outputs": [
    {
     "data": {
      "text/plain": [
       "7"
      ]
     },
     "execution_count": 4,
     "metadata": {},
     "output_type": "execute_result"
    }
   ],
   "source": [
    "len(daily_well_production)"
   ]
  },
  {
   "cell_type": "markdown",
   "metadata": {},
   "source": [
    "However, this `len`gth is of somewhat limited use. Unless we want to take an average, or use the number of `key`s in a `dict` for some purpose, the structure is actually _more useful_ because of its ability to call up values by name, or `key`:"
   ]
  },
  {
   "cell_type": "code",
   "execution_count": 5,
   "metadata": {},
   "outputs": [
    {
     "name": "stdout",
     "output_type": "stream",
     "text": [
      "Wednesday: 980\n",
      "Friday: 1475\n"
     ]
    }
   ],
   "source": [
    "print(\"Wednesday:\",daily_well_production[\"Wednesday\"])\n",
    "print(\"Friday:\",daily_well_production[\"Friday\"])"
   ]
  },
  {
   "cell_type": "markdown",
   "metadata": {},
   "source": [
    "Here, note that we stil use square brackets -- `[]` -- to call our `key`s. This is one of the similarities between data structures in Python. However, we use the _value of the `key`_ to refer to a specific entry in the `dict`.\n",
    "\n",
    "### `key`s and data types\n",
    "\n",
    "Notice that I wrote _value of the `key`_. Let's think a bit about what that means. A question for you: _can values in Python have different data types_?\n",
    "\n",
    "Sure. This means that `key`s can also have different data types. Let's consider the following `boolean` representation of a statistical trick in which we flip a coin 100 times in which the number of \"heads\" (the overse of the coin) is marked as `True` and the number of \"tails\" (the reverse of the coin):"
   ]
  },
  {
   "cell_type": "code",
   "execution_count": 6,
   "metadata": {},
   "outputs": [],
   "source": [
    "heads_or_tails = {\n",
    "    True: 53,\n",
    "    False: 47\n",
    "}"
   ]
  },
  {
   "cell_type": "markdown",
   "metadata": {},
   "source": [
    "Here, our `key`s are `boolean` values. So, we can refer to them thus:"
   ]
  },
  {
   "cell_type": "code",
   "execution_count": 7,
   "metadata": {},
   "outputs": [
    {
     "name": "stdout",
     "output_type": "stream",
     "text": [
      "Number of 'heads': 53\n",
      "Number of 'tails': 47\n"
     ]
    }
   ],
   "source": [
    "print(\"Number of 'heads':\",heads_or_tails[True])\n",
    "print(\"Number of 'tails':\",heads_or_tails[False])"
   ]
  },
  {
   "cell_type": "markdown",
   "metadata": {},
   "source": [
    "We can even refer to these in the form of `integer`s. But -- take note -- these are not `index`es: they are literally the values they represent:"
   ]
  },
  {
   "cell_type": "code",
   "execution_count": 8,
   "metadata": {},
   "outputs": [
    {
     "name": "stdout",
     "output_type": "stream",
     "text": [
      "123 times per day: 1102 days\n"
     ]
    }
   ],
   "source": [
    "# My cat talks a lot\n",
    "average_daily_meows = {\n",
    "    0: 1, # <-- he must've been mad at me\n",
    "    5: 2.3,\n",
    "    7: 1.4,\n",
    "    10: 100,\n",
    "    123: 1102, # <-- very likely also could have been mad at me\n",
    "}\n",
    "\n",
    "print(\"123 times per day:\",average_daily_meows[123],\"days\")"
   ]
  },
  {
   "cell_type": "markdown",
   "metadata": {},
   "source": [
    "Again, _**important distinction**_: any time we refer to a `key` in a `dict`, it is _not an `index`_.\n",
    "\n",
    "### Adding to a `dict`\n",
    "\n",
    "While there are methods available to `dict` objects, there are a few different ways that we can add to or update values in our `dict`s. One of the easiest is simply to reassign the value of a `key`:"
   ]
  },
  {
   "cell_type": "code",
   "execution_count": 9,
   "metadata": {},
   "outputs": [
    {
     "name": "stdout",
     "output_type": "stream",
     "text": [
      "{0: 1, 5: 2.3, 7: 1.4, 10: 110, 123: 1102}\n"
     ]
    }
   ],
   "source": [
    "average_daily_meows[10] += 10\n",
    "print(average_daily_meows)"
   ]
  },
  {
   "cell_type": "markdown",
   "metadata": {},
   "source": [
    "However, if a key _doesn't exist_, we can always add it directly, too:"
   ]
  },
  {
   "cell_type": "code",
   "execution_count": 10,
   "metadata": {},
   "outputs": [
    {
     "name": "stdout",
     "output_type": "stream",
     "text": [
      "{0: 1, 5: 2.3, 7: 1.4, 10: 110, 123: 1102, 15: 2}\n"
     ]
    }
   ],
   "source": [
    "average_daily_meows[15] = 2\n",
    "print(average_daily_meows)"
   ]
  },
  {
   "cell_type": "markdown",
   "metadata": {},
   "source": [
    "#### `try`ing to be `except`ional\n",
    "\n",
    "There are cases where a `dict` _doesn't_ have a key that we'd like to update or assign _and_ we don't precisely know what the key is or will be. Trippy.\n",
    "\n",
    "Let's suppose we have four friends: Dante, Quinn, Lisa, and Jordan. They play Tic-Tac-Toe a lot. I mean _a lot_. In fact, they have a kind of ongoing game in which they keep track of wins -- just to be sure they know who's the best. They are also all programmers so, of course, they decide create a program to keep track of their records.\n",
    "\n",
    "Let's have a look at the program as an example. (Notice the alternate `while` structure I use here and the new `break` directive -- based on what you know, what do you think they do?)"
   ]
  },
  {
   "cell_type": "code",
   "execution_count": 11,
   "metadata": {},
   "outputs": [
    {
     "name": "stdin",
     "output_type": "stream",
     "text": [
      "For what player are we reporting a win? (Enter [N] to quit):  Lisa\n",
      "For what player are we reporting a win? (Enter [N] to quit):  Jordan\n",
      "For what player are we reporting a win? (Enter [N] to quit):  Lisa\n",
      "For what player are we reporting a win? (Enter [N] to quit):  Lisa\n",
      "For what player are we reporting a win? (Enter [N] to quit):  Jordan\n",
      "For what player are we reporting a win? (Enter [N] to quit):  Jordan\n",
      "For what player are we reporting a win? (Enter [N] to quit):  N\n"
     ]
    },
    {
     "name": "stdout",
     "output_type": "stream",
     "text": [
      "{'Lisa': 3, 'Jordan': 3}\n"
     ]
    }
   ],
   "source": [
    "# Tic-Tac-Toe record program\n",
    "\n",
    "players = {}\n",
    "\n",
    "while True:\n",
    "    choice = input(\"For what player are we reporting a win? (Enter [N] to quit): \")\n",
    "    if choice == \"N\":\n",
    "        break\n",
    "    try:\n",
    "        players[choice] += 1\n",
    "    except KeyError:\n",
    "        players[choice] = 1\n",
    "print(players)"
   ]
  },
  {
   "cell_type": "markdown",
   "metadata": {},
   "source": [
    "It appears that Dante and Quinn have trouble winning -- at least recently.\n",
    "\n",
    "However, let's entertain the following section of code:\n",
    "\n",
    "```python\n",
    "    try:\n",
    "        players[choice] += 1\n",
    "    except KeyError:\n",
    "        players[choice] = 1\n",
    "```\n",
    "\n",
    "I'll get right to it: if we would've attempted to `+= 1` a player whose name wasn't in the list, we would hit an error:\n",
    "\n",
    "```\n",
    "---------------------------------------------------------------------------\n",
    "KeyError                                  Traceback (most recent call last)\n",
    "<ipython-input-21-4cd79fbfa960> in <module>\n",
    "----> 1 players[\"Quinn\"] += 1\n",
    "\n",
    "KeyError: 'Quinn'\n",
    "```\n",
    "\n",
    "The reason? We can't _increment_ (a formal name for `+=`), a `key` that doesn't exist in the `dict`. Without our `try`/`except` statement, we would've hit an error.\n",
    "\n",
    "However, following our recent lesson that the last line of the error serves a highly informational purpose:\n",
    "\n",
    "```\n",
    "KeyError: 'Quinn`\n",
    "```\n",
    "\n",
    "tells us everything we need to know. A `KeyError` means that a given `key` isn't in the `dict`. Our statement:\n",
    "\n",
    "```python\n",
    "    try:\n",
    "        players[choice] += 1\n",
    "    except KeyError:\n",
    "        players[choice] = 1\n",
    "```\n",
    "\n",
    "literally reads: `try` to do the following thing but, in the case that there's an error -- an `except`ion (in this case, a `KeyError`) -- we should do something specific to set up the `key`. \n",
    "\n",
    "Because we know that we're reporting wins for Tic-Tac-Toe, we must be reporting _at least one_. So, the first time someone's name appears in the list, it _has to be_ because they won _a game_.\n",
    "\n",
    "### Dimensionality\n",
    "\n",
    "Another key area where `dict` objects differ from `list`s or other data structures is in their ability to be _multi-dimensional_. Just when you thought `try`-`except` was a mindbending experience, we're gonna go full on _Back to the Future_.\n",
    "\n",
    "We can think of `list`, `tuple`, or other data structures as generally \"one-dimensional.\" They go one layer of information deep. `dicts`, well, can go much farther down the rabbit hole. Take the following for example:"
   ]
  },
  {
   "cell_type": "code",
   "execution_count": 18,
   "metadata": {},
   "outputs": [
    {
     "name": "stdout",
     "output_type": "stream",
     "text": [
      "The value of the apple is 0.99\n",
      "We have 10 of them.\n",
      "The value of the banana is 1.01\n",
      "We have 3 of them.\n"
     ]
    }
   ],
   "source": [
    "# We can call this a two-dimensional dict -- a dict whose keys have a dict as a value\n",
    "crate_of_fruit = {\n",
    "    \"apple\": {\"quantity\": 10,\"price\": .99},\n",
    "    \"banana\": {\"quantity\": 3, \"price\": 1.01}\n",
    "}\n",
    "\n",
    "for fruit in crate_of_fruit:\n",
    "    print(\"The value of the\",fruit,\"is\",crate_of_fruit[fruit][\"price\"])\n",
    "    print(\"We have\",crate_of_fruit[fruit][\"quantity\"],\"of them.\")"
   ]
  },
  {
   "cell_type": "markdown",
   "metadata": {},
   "source": [
    "Theoretically, we could go on, and on, and on, and on for a long time."
   ]
  },
  {
   "cell_type": "markdown",
   "metadata": {},
   "source": [
    "## Exercise\n",
    "\n",
    "Complete the following code snippet with the correct statements. Use the following `list` and `dict` for each question:"
   ]
  },
  {
   "cell_type": "code",
   "execution_count": 1,
   "metadata": {},
   "outputs": [],
   "source": [
    "shopping_list = [\n",
    "    \"screwdriver\", \n",
    "    \"wire\", \n",
    "    \"wall plug\",\n",
    "    \"spark plug\", \n",
    "    \"candy bar\"\n",
    "]\n",
    "\n",
    "store_inventory = {\n",
    "    \"screwdriver\": {\n",
    "        \"quantity\": 20, \n",
    "        \"price\": 2.25\n",
    "    },\n",
    "    \"wire\": {\n",
    "        \"quantity\": 12, \n",
    "        \"price\": .79\n",
    "    },\n",
    "    \"wall plug\": {\n",
    "        \"quantity\": 10, \n",
    "        \"price\": 1.00\n",
    "    },\n",
    "    \"spark plug\": {\n",
    "        \"quantity\": 49, \n",
    "        \"price\": .50\n",
    "    },\n",
    "    \"candy bar\": {\n",
    "        \"quantity\": 12, \n",
    "        \"price\": .99\n",
    "    }\n",
    "}\n",
    "\n",
    "tax = .08"
   ]
  },
  {
   "cell_type": "markdown",
   "metadata": {},
   "source": [
    "Finish the following code to:\n",
    "\n",
    "* iterate over the `list` using a `for` loop\n",
    "  * evaluate each `item` in `shopping_list`\n",
    "* add all of the prices for each item into a `subtotal`\n",
    "  * assume that we're only purchasing `1` of each item\n",
    "* find the `total` of all items\n",
    "  * Of course, `tax`\n",
    "* subtract `1` from the `quantity` `key` of each item in `store_inventory`\n",
    "* print each `item` in the `store inventory` followed by the `quantity` the format\n",
    "\n",
    "Your final output should look similar to this:\n",
    "\n",
    "```\n",
    "Subtotal: #.##\n",
    "Total: #.####\n",
    "screwdriver - ##\n",
    "wire - ##\n",
    "wall plug - ##\n",
    "spark plug - ##\n",
    "candy bar - ##\n",
    "```"
   ]
  },
  {
   "cell_type": "code",
   "execution_count": 1,
   "metadata": {},
   "outputs": [],
   "source": [
    "# TODO: Finish the inventory example"
   ]
  }
 ],
 "metadata": {
  "kernelspec": {
   "display_name": "Python 3",
   "language": "python",
   "name": "python3"
  },
  "language_info": {
   "codemirror_mode": {
    "name": "ipython",
    "version": 3
   },
   "file_extension": ".py",
   "mimetype": "text/x-python",
   "name": "python",
   "nbconvert_exporter": "python",
   "pygments_lexer": "ipython3",
   "version": "3.8.5"
  }
 },
 "nbformat": 4,
 "nbformat_minor": 4
}
