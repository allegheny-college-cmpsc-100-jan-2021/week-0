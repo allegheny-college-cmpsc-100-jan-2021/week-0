{
 "cells": [
  {
   "cell_type": "markdown",
   "metadata": {},
   "source": [
    "# Worksheet 0.1.2: Python syntax (`while` loops)\n",
    "\n",
    "<div class=\"alert alert-block alert-info\">\n",
    "This worksheet will invite you to tinker with the examples, as they are live code cells. Instead of the normal fill-in-the-blank style of notebook, feel free to mess with the code directly. Remember that -- to test things out -- the <a href = \"../sandbox/CMPSC%20100%20-%20Week%2000%20-%20Sandbox.ipynb\"><b>Sandbox</b></a> is available to you as well.\n",
    "</div>\n",
    "\n",
    "<div class=\"alert alert-block alert-warning\" id = \"warning\">\n",
    "The work this week also offers the opportunity to tie up the server in loopish operations. Should you be unable to run cells, simply locate the <b>Kernel</b> menu at the top of the screen and click <b>Interrupt Kernel</b>. This should jumpstart the kernel again and clear out the infinite loop behavior.</div>\n",
    "\n",
    "## Feeling a bit loopy?\n",
    "\n",
    "If you're not, you might start to during this worksheet.\n",
    "\n",
    "We've mostly covered cases in which events or calculations need to happen one at a time or just one time in total. Occasionally -- much more than occasionally, really -- programs need to repeat instructions more than once until some given condition is met. \n",
    "\n",
    "If you read the word \"condition\" above and have started thinking `booleans` are involved: you're right yet again.\n",
    "\n",
    "While casually referred to as a \"loop\" structure, the technical term for this repetition is _iteration_ -- the process of repeating a set of statements until a given condition is no longer `True`. In the case of `while` loops, we can rephrase the statement above to read \"while the condition is true, repeat some statements\"\n",
    "\n",
    "`while` loops recall syntax similar to `if` statements:\n",
    "\n",
    "```python\n",
    "while CONDITION:\n",
    "    # Repeat\n",
    "    # these\n",
    "    # statements\n",
    "```\n",
    "\n",
    "Again, notice that indentation plays a part here: everything indented underneat the `while` statement \"belongs to\" that `while` loop, and will be subject to repetition.\n",
    "\n",
    "For example, a simple countdown:"
   ]
  },
  {
   "cell_type": "code",
   "execution_count": 1,
   "metadata": {},
   "outputs": [
    {
     "name": "stdout",
     "output_type": "stream",
     "text": [
      "10\n",
      "9\n",
      "8\n",
      "7\n",
      "6\n",
      "5\n",
      "4\n",
      "3\n",
      "2\n",
      "1\n",
      "Liftoff!\n"
     ]
    }
   ],
   "source": [
    "# Initialize starting number\n",
    "seconds = 10\n",
    "\n",
    "# Start while loop\n",
    "while seconds > 0:\n",
    "    print(seconds)\n",
    "    seconds -= 1\n",
    "print(\"Liftoff!\")"
   ]
  },
  {
   "cell_type": "markdown",
   "metadata": {},
   "source": [
    "In the above block of code, we start by telling the program where to, well, start. Then we print that number followed by an instruction `seconds -= 1` to _decrement_ (decrease) that number by one _each time the loop runs_ (on each _iteration_). By the time we reach the end, the last run notices that `seconds == 0`, therefore `seconds` _is not_ greater than `0` anymore and it breaks out of the loop, executing the next statement after the loop.\n",
    "\n",
    "Like Worksheet 0 this week, we can use any combination of expressions that `boolean` values can muster, be they _relational operators_ testing `integers`, `floating point numbers`, `strings`, or _logical operators_ looking for combinations of `boolean` expressions.\n",
    "\n",
    "### `while` loops and the flow of control\n",
    "\n",
    "Here's that control topic back to haunt us.\n",
    "\n",
    "Again, the technical flow of the program's instructions (i.e. code) doesn't change. It's still technically top-down. However, something interesting happens when we hit a loop or _iteration_. Consider our countdown above:\n",
    "\n",
    "![while flow](https://www.cs.allegheny.edu/sites/dluman/cmpsc100/cmpsc-100-while-flow.png)\n",
    "\n",
    "As the diagram points out, the flow of control changes when we encounter a `while` loop. Statements _in the loop_ execute from `top -> bottom -> top` until the condition cited is no longer true (in this case, until the moment that `seconds` dips below `1`.\n",
    "\n",
    "## Detour into user input\n",
    "\n",
    "Why user input and why now? As we'll see in future weeks, other kinds of loops can fulfill the same purpose as `while` loops. However, there's something unique that `while` loops can do that others aren't so well-suited to: handing user input. \n",
    "\n",
    "This relies on our understanding of _functions_ as we're about to learn a new one: `input()` -- a function which allows us to prompt users to enter data so that our programs can do an operation called \"parsing\" (understanding/reading) it.\n",
    "\n",
    "It's always helpful to put some `string` value in the parenthesis as the _argument_, to give a user some sense of what they're being requested to type. In fact, the general format of the function is, like others we've seen:\n",
    "\n",
    "```python\n",
    "# Where ARGUMENT will evaluate to a string\n",
    "input(ARGUMENT)\n",
    "```\n",
    "\n",
    "In order to effectively use it, we need to _assign_ the result of the function to a variable to store it in memory. Run the following cell for an example:"
   ]
  },
  {
   "cell_type": "code",
   "execution_count": null,
   "metadata": {},
   "outputs": [],
   "source": [
    "name = input(\"What is your name: \")\n",
    "print(\"Hello, \" + name + \".\")"
   ]
  },
  {
   "cell_type": "markdown",
   "metadata": {},
   "source": [
    "_Because we stored the result_ in `name`, we can use it -- whether that's to `print` it or test it:"
   ]
  },
  {
   "cell_type": "code",
   "execution_count": null,
   "metadata": {},
   "outputs": [],
   "source": [
    "if name == \"The Professor\":\n",
    "    print(\"The Professor is in the house!\")\n",
    "else:\n",
    "    print(\"Oh, you're not the professor. Forget it.\")"
   ]
  },
  {
   "cell_type": "markdown",
   "metadata": {},
   "source": [
    "One thing of particular note:"
   ]
  },
  {
   "cell_type": "code",
   "execution_count": null,
   "metadata": {},
   "outputs": [],
   "source": [
    "# The identifier \"str_value\" is arbitrary here, no real significance\n",
    "str_value = input(\"Enter a numeric value of any kind: \")\n",
    "print(type(str_value))"
   ]
  },
  {
   "cell_type": "markdown",
   "metadata": {},
   "source": [
    "No matter what we enter here, the result will always be a `string` type. That's because the Python language is rigged to do its best with _whatever_ a user writes in the prompt. This means handling characters/symbols (`!@#^!%#@$` -- I promise I'm not swearing here), letters (`a`,`b`,`c`), or numbers (either `integer` or `float`).\n",
    "\n",
    "This means that, to make it useful, we might have to _convert_ it if we want a numeric value from it:"
   ]
  },
  {
   "cell_type": "code",
   "execution_count": null,
   "metadata": {},
   "outputs": [],
   "source": [
    "float_value = float(str_value)\n",
    "print(type(float_value))"
   ]
  },
  {
   "cell_type": "markdown",
   "metadata": {},
   "source": [
    "However, insofar as user input is concerned, we can test it _or_ we can use it as something called a \"sentinel\" value. Using word \"sentinel\" here means exactly what it means in normal speech -- something to watch out for, like the following:"
   ]
  },
  {
   "cell_type": "code",
   "execution_count": null,
   "metadata": {},
   "outputs": [],
   "source": [
    "# Setup choice\n",
    "choice = \"\"\n",
    "\n",
    "# Do the loop\n",
    "while choice != \"E\":\n",
    "    # Print message to relay the user's choice\n",
    "    print(\"The loop is running.\")\n",
    "    choice = input(\"[C]ontinue or [E]xit? \")\n",
    "print(\"You chose to exit!\")"
   ]
  },
  {
   "cell_type": "markdown",
   "metadata": {},
   "source": [
    "## Mean`while`\n",
    "\n",
    "The conclusion we should draw from our little detour is this: `while` statements are exceptionally good at handling all kinds of `boolean` conditions. When it's merely simple counting, like our countdown example above, it's OK, too -- but, as we'll see in the near future, counting and other more complex tests are better suited by other loop types.\n",
    "\n",
    "## Infinite loops\n",
    "\n",
    "<div class=\"alert alert-block alert-danger\">\n",
    "Most programmers fall prey to an infinite loop from time to time. The examples below are not code cells, because if you were to run them, they would -- well -- loop infinitely. If you think you're stuck in an infinite loop infinite loop infinite loop infinite loop infinite loop infinite loop infinite loop infinite loop infinite loop infinite loop infinite loop infinite loop infinite loop, don't hesistate to take the advice in the <a href = \"#warning\">warning</a> above.\n",
    "</div>\n",
    "\n",
    "There are times when conditions _can't_ be met. For example:\n",
    "\n",
    "```python\n",
    "count = 0\n",
    "\n",
    "while True:\n",
    "    count += 1\n",
    "```\n",
    "\n",
    "Now, there _is_ an application for something like this. However, note that if we say `while True`, the condition is literally hard-coded to be `True` _all the time_ -- it can never change. Another example:\n",
    "\n",
    "```python\n",
    "sum = 0\n",
    "limit = 5\n",
    "\n",
    "while sum < limit:\n",
    "    sum -=1\n",
    "```\n",
    "\n",
    "Here, we're actually _counting backwards_, so `sum` will never be `+5`. It might be `-5` (at some point), but it will continue on to `-∞`, and never stop. In essence, `sum` will always be less than `limit`."
   ]
  },
  {
   "cell_type": "markdown",
   "metadata": {},
   "source": [
    "## The sum of its parts\n",
    "\n",
    "First things first: this program is a one-trick pony: it only adds numbers.\n",
    "\n",
    "I'm asking you to use what we have learned in this worksheet to write a program whose sole purpose is to present the sum of a set of user-entered numbers. The user should be able to enter as many numbers as they want, provided that:\n",
    "\n",
    "* all of the numbers are integers\n",
    "* uses `number` to store user input\n",
    "* users can choose to quit by entering an `0` at the prompt\n",
    "* `if number = 0`, don't add the number to `count`\n",
    "  * non-hint hint: there are at least 3 ways to do this\n",
    "* the program output the sum in the following format:\n",
    "\n",
    "```\n",
    "The sum of these # numbers -> ###\n",
    "```\n",
    "\n",
    "* The \"proof\" of this program is to add the following numbers when you grade the worksheet:\n",
    "  * `4`,`8`,`15`,`16`,`23`,`42`\n",
    "\n",
    "I'll start you out."
   ]
  },
  {
   "cell_type": "code",
   "execution_count": null,
   "metadata": {},
   "outputs": [],
   "source": [
    "# NOTE: YOU MUST RUN THIS CELL TO MAKE THESE VARIABLES AVAILABLE\n",
    "# NOTE 2: RUN THIS CELL TO RESET ALL NUMBERS AS WELL\n",
    "\n",
    "# Setup variable to handle input\n",
    "number = \"\"\n",
    "\n",
    "# Setup variable to keep running total\n",
    "sum = 0\n",
    "\n",
    "# Setup a count variable to track the count\n",
    "count = 0\n",
    "\n",
    "# TODO: Write code to complete activity using knowledge you've gained about while loops"
   ]
  },
  {
   "cell_type": "markdown",
   "metadata": {},
   "source": [
    "## Finishing this activity\n",
    "\n",
    "If the program above runs and you've finished the worksheet, be sure to run `gradle grade` to do one final check!"
   ]
  }
 ],
 "metadata": {
  "kernelspec": {
   "display_name": "Python 3",
   "language": "python",
   "name": "python3"
  },
  "language_info": {
   "codemirror_mode": {
    "name": "ipython",
    "version": 3
   },
   "file_extension": ".py",
   "mimetype": "text/x-python",
   "name": "python",
   "nbconvert_exporter": "python",
   "pygments_lexer": "ipython3",
   "version": "3.8.5"
  }
 },
 "nbformat": 4,
 "nbformat_minor": 4
}
