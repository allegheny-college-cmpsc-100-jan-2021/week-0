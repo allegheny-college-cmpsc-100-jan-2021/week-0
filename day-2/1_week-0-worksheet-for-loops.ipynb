{
 "cells": [
  {
   "cell_type": "markdown",
   "metadata": {},
   "source": [
    "# Worksheet 0.1.3: Python syntax (for loops)\n",
    "\n",
    "<div class=\"alert alert-block alert-info\">\n",
    "This worksheet will invite you to tinker with the examples, as they are live code cells. Instead of the normal fill-in-the-blank style of notebook, feel free to mess with the code directly. Remember that -- to test things out -- the <a href = \"../sandbox/CMPSC%20100%20-%20Week%2004%20-%20Sandbox.ipynb\"><b>Sandbox</b></a> is available to you as well.\n",
    "</div>\n",
    "\n",
    "<div class=\"alert alert-block alert-warning\" id = \"warning\">\n",
    "The work this week also offers the opportunity to tie up the server in loopish operations. Should you be unable to run cells, simply locate the <b>Kernel</b> menu at the top of the screen and click <b>Interrupt Kernel</b>. This should jumpstart the kernel again and clear out the infinite loop behavior.</div>\n",
    "\n",
    "## `for` what it's worth\n",
    "\n",
    "The Python `for` loop extends what we know about the topic of _iteration_ -- see (`while` loops). And, I hear you asking: why do we need more than one type of loop? Hopefully this worksheet will help highlight the difference between these two _control structures_ (think _flow of control_), and give you a sense of at least intermediate mastery of both.\n",
    "\n",
    "The main, informal difference between the `while` and the `for` loop boils down to _counting_:\n",
    "\n",
    "### `for` loops\n",
    "\n",
    "* `for` loops are for situations where you can _count_ the number of _iterations_\n",
    "* `for` loops evaluate boolean conditions _implicitly_\n",
    "\n",
    "### `while` loops\n",
    "\n",
    "* `while` loops exist for cases where you can't count or predict the number of _iterations_\n",
    "* `while` loops evaluate boolean conditions _explicitly_\n",
    "\n",
    "## A comparison of `for` and `while`\n",
    "\n",
    "### Syntax\n",
    "\n",
    "We know the `while` loop reasonably well:\n",
    "\n",
    "```python\n",
    "while CONDITION:\n",
    "    # do instructions\n",
    "    # ...\n",
    "```\n",
    "\n",
    "The `for` loop looks a bit different and has two different expressions:\n",
    "\n",
    "```python\n",
    "# using range\n",
    "for i in range(START #, END #, SKIP #):\n",
    "    # do instructions\n",
    "    # ...\n",
    "```\n",
    "\n",
    "We can think of range like _slicing syntax_ -- the parameters are somewhat the same and it provides similar functionality: from some `starting point`, go until some `ending point`, potentially skipping every `n` items. The last part -- the skip -- is optional.\n",
    "\n",
    "The other expression makes it ideal for structures of unknown size:\n",
    "\n",
    "```python\n",
    "for ELEMENT in DATA STRUCTURE:\n",
    "    # do something with ELEMENT\n",
    "```\n",
    "\n",
    "In the above, the `for` loop creates an identifier which exists after the loop containing only the _last item loaded into it_ such as this example:"
   ]
  },
  {
   "cell_type": "code",
   "execution_count": 1,
   "metadata": {},
   "outputs": [
    {
     "name": "stdout",
     "output_type": "stream",
     "text": [
      "Ulysses\n",
      "Snooze Magoo\n",
      "Mr. U\n",
      "The Boss\n",
      "The Bug\n",
      "Mane Man\n",
      "The last item in the list is Mane Man.\n"
     ]
    }
   ],
   "source": [
    "cat_names = [\"Ulysses\", \"Snooze Magoo\", \"Mr. U\", \"The Boss\", \"The Bug\", \"Mane Man\"]\n",
    "\n",
    "for name in cat_names: # <--- name is temporary for this loop only\n",
    "    print(name)\n",
    "print(\"The last item in the list is\",name + \".\")"
   ]
  },
  {
   "cell_type": "markdown",
   "metadata": {},
   "source": [
    "### Practical examples\n",
    "\n",
    "`for` and `while` loops can do some of the same things. Consider the following example:"
   ]
  },
  {
   "cell_type": "code",
   "execution_count": 2,
   "metadata": {},
   "outputs": [
    {
     "name": "stdout",
     "output_type": "stream",
     "text": [
      "screwdriver\n",
      "copper wire\n",
      "edison plug\n",
      "spark plug\n",
      "candy bar\n"
     ]
    }
   ],
   "source": [
    "# Recalling our trip to the hardward store last week\n",
    "store_list = [\"screwdriver\", \"copper wire\", \"edison plug\", \"spark plug\", \"candy bar\"]\n",
    "\n",
    "# print the list using a while loop\n",
    "count = 0\n",
    "while count < len(store_list):\n",
    "    print(store_list[count])\n",
    "    count += 1"
   ]
  },
  {
   "cell_type": "markdown",
   "metadata": {},
   "source": [
    "We knew ahead of time that `len(store_list)` was `5`. But, there is a more likely scenario that we _didn't_. If we think about how we added items to G. Wiz's moving boxes:"
   ]
  },
  {
   "cell_type": "code",
   "execution_count": 3,
   "metadata": {},
   "outputs": [
    {
     "name": "stdin",
     "output_type": "stream",
     "text": [
      "Add item to box:  Liz Wiz action figure\n",
      "Add another item to the box? [Y]/[N]:  Y\n",
      "Add item to box:  Green Wizard Hat\n",
      "Add another item to the box? [Y]/[N]:  Y\n",
      "Add item to box:  Backup magic wands (aka 'stunt wands')\n",
      "Add another item to the box? [Y]/[N]:  N\n"
     ]
    },
    {
     "name": "stdout",
     "output_type": "stream",
     "text": [
      "['Liz Wiz action figure', 'Green Wizard Hat', \"Backup magic wands (aka 'stunt wands')\"]\n"
     ]
    }
   ],
   "source": [
    "box = []\n",
    "choice = None\n",
    "while choice != \"N\":\n",
    "    item = input(\"Add item to box: \")\n",
    "    box.append(item)\n",
    "    choice = input(\"Add another item to the box? [Y]/[N]: \")\n",
    "print(box)"
   ]
  },
  {
   "cell_type": "markdown",
   "metadata": {},
   "source": [
    "Beyond having the motivation to quit typing, we could've theoretically gone on entering items _forever_. Here is where a `while` loop shines. In the above situation:\n",
    "\n",
    "* We didn't really know how many times we needed to iterate\n",
    "* Given that, we needed to directly evaluate the `boolean`: `choice != N`\n",
    "\n",
    "Let's look at how we might do these with a `for` loop:"
   ]
  },
  {
   "cell_type": "code",
   "execution_count": 4,
   "metadata": {},
   "outputs": [
    {
     "name": "stdout",
     "output_type": "stream",
     "text": [
      "screwdriver\n",
      "copper wire\n",
      "edison plug\n",
      "spark plug\n",
      "candy bar\n"
     ]
    }
   ],
   "source": [
    "# store_list is already defined above\n",
    "for i in range(0,len(store_list)):\n",
    "    print(store_list[i])"
   ]
  },
  {
   "cell_type": "markdown",
   "metadata": {},
   "source": [
    "or, even easier:"
   ]
  },
  {
   "cell_type": "code",
   "execution_count": 5,
   "metadata": {},
   "outputs": [
    {
     "name": "stdout",
     "output_type": "stream",
     "text": [
      "screwdriver\n",
      "copper wire\n",
      "edison plug\n",
      "spark plug\n",
      "candy bar\n"
     ]
    }
   ],
   "source": [
    "for item in store_list:\n",
    "    print(item)"
   ]
  },
  {
   "cell_type": "markdown",
   "metadata": {},
   "source": [
    "Both of the above expression of `for` don't _directly_ cry out \"BOOLEAN CONDITION!\" -- they're a bit more subtle than that. In both cases, we can read the for loop as:\n",
    "\n",
    "* for every single object\n",
    "* keep iterating over the subsequent code\n",
    "* until we run out of items\n",
    "\n",
    "In both of our above cases, I think it's easy to see, at least, that there are fewer lines in our `for` examples than our `while`s. This reinforces our notion of when to use `for` vs. `while`: \n",
    "\n",
    "* when we have a finite set of items (e.g. a `list`), we should use `for`\n",
    "* when we are responding to or creating a behavior (e.g. `input`), we should control our iteration with a `while`.\n",
    "\n",
    "## Exercises\n",
    "\n",
    "Complete the following prompts using the following guided instructions and `list`:"
   ]
  },
  {
   "cell_type": "code",
   "execution_count": 6,
   "metadata": {},
   "outputs": [],
   "source": [
    "cat_names = [\"Ulysses\", \"Snooze Magoo\", \"The Boss\", \"Mr. U\", \"The Bug\", \"Mane Man\"]"
   ]
  },
  {
   "cell_type": "markdown",
   "metadata": {},
   "source": [
    "### 1. `print` each `name` in `cat_names` using a `for` loop."
   ]
  },
  {
   "cell_type": "code",
   "execution_count": 7,
   "metadata": {},
   "outputs": [
    {
     "name": "stdout",
     "output_type": "stream",
     "text": [
      "Ulysses\n",
      "Snooze Magoo\n",
      "The Boss\n",
      "Mr. U\n",
      "The Bug\n",
      "Mane Man\n"
     ]
    }
   ],
   "source": [
    "# TODO"
   ]
  },
  {
   "cell_type": "markdown",
   "metadata": {},
   "source": [
    "### 2. `print` the `len` of each `name` in `cat_names` using a `for` loop."
   ]
  },
  {
   "cell_type": "code",
   "execution_count": 8,
   "metadata": {},
   "outputs": [
    {
     "name": "stdout",
     "output_type": "stream",
     "text": [
      "7\n",
      "12\n",
      "8\n",
      "5\n",
      "7\n",
      "8\n"
     ]
    }
   ],
   "source": [
    "# TODO"
   ]
  },
  {
   "cell_type": "markdown",
   "metadata": {},
   "source": [
    "### 3. `print` the overall average `len` for all of the names I call my cat using a `for` loop."
   ]
  },
  {
   "cell_type": "code",
   "execution_count": 9,
   "metadata": {},
   "outputs": [
    {
     "name": "stdout",
     "output_type": "stream",
     "text": [
      "7.833333333333333\n"
     ]
    }
   ],
   "source": [
    "# TODO"
   ]
  },
  {
   "cell_type": "markdown",
   "metadata": {},
   "source": [
    "\n",
    "## Well above (or below) average\n",
    "\n",
    "Prior to the institution of indoor plumbing, and for some folks to this day, well water served as the primary means for collecting and supplying water. For some well owners, though, the amount of water in the well could be...erratic and unpredictable.\n",
    "\n",
    "Consider a well whose water output is modeled in the following table:\n",
    "\n",
    "|Day      |Water production (in gallons) |\n",
    "|---------|------------------------------|\n",
    "|Sunday   | 1,440                        |\n",
    "|Monday   | 1,750                        |\n",
    "|Tuesday  | 1,230                        |\n",
    "|Wednesday| 980                          |\n",
    "|Thursday | 1,900                        |\n",
    "|Friday   | 1,475                        |\n",
    "|Saturday | 730                          |\n",
    "\n",
    "An well of similar size to the one profiled in the table above produces `1,440` gallons in a day -- on average.\n",
    "\n",
    "Is my well an above or below average one?\n",
    "\n",
    "* Use the identifier `well_production` to define the table above as a data structure\n",
    "* Evaluate each `day` in `well_production` using a `for` loop\n",
    "* If the well is above average, print `You have an above average well.`\n",
    "* If the well is below average, print `You have a below average well.`\n",
    "\n",
    "### Sample output\n",
    "\n",
    "```\n",
    "Production: ####.############\n",
    "You have a below average well.\n",
    "```\n",
    "\n",
    "OR\n",
    "\n",
    "```\n",
    "Production: ####.############\n",
    "You have an above average well.\n",
    "```\n",
    "\n",
    "### Hint\n",
    "\n",
    "* This will involve creating a `list` (_or_ `tuple`)\n",
    "* Judge my well using an `if` statement which evaluates average criteria"
   ]
  },
  {
   "cell_type": "code",
   "execution_count": null,
   "metadata": {},
   "outputs": [],
   "source": [
    "# TODO: Find out about my well"
   ]
  }
 ],
 "metadata": {
  "kernelspec": {
   "display_name": "Python 3",
   "language": "python",
   "name": "python3"
  },
  "language_info": {
   "codemirror_mode": {
    "name": "ipython",
    "version": 3
   },
   "file_extension": ".py",
   "mimetype": "text/x-python",
   "name": "python",
   "nbconvert_exporter": "python",
   "pygments_lexer": "ipython3",
   "version": "3.8.5"
  }
 },
 "nbformat": 4,
 "nbformat_minor": 4
}
