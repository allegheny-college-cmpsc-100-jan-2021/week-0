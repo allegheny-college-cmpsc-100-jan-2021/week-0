{
 "cells": [
  {
   "cell_type": "markdown",
   "metadata": {},
   "source": [
    "# Worksheet 0.0.2: Getting comfortable with the terminal\n",
    "\n",
    "<div class=\"alert alert-block alert-warning\">\n",
    "    <p>This activity only works if we're in our JupyterLab environment. If you haven't finished the <a href = '1_week-0-worksheet-github-clone.md'>\"Cloning\" a repository</a> worksheet, please do so now.\n",
    "</div>\n",
    " \n",
    "We'll gain some experience with our terminal and Jupyter notebooks in this activity. \n",
    "\n",
    "## Table of contents\n",
    "---\n",
    "\n",
    "* [Understanding the terminal](#Understanding-the-terminal)\n",
    "* [Basic commands](#Basic-commands)\n",
    "* [Finishing this activity](#Finishing-this-activity)\n",
    "\n",
    "## Understanding the terminal\n",
    "\n",
    "---\n",
    "\n",
    "<div class=\"alert alert-block alert-warning\">\n",
    "    <p>If you do not have a terminal tab open in your JupyterLab workspace, open one now.</p>\n",
    "    <p>Need a refresher on how to do that? <a href = \"../README.md#Using-our-terminal\">Check out this part of the README</a></p>\n",
    "</div>\n",
    "\n",
    "In our [README](../README.md), we encountered a bit of history about the terminal. Here, we're more concerned with understanding _what the terminal is telling us_.\n",
    "\n",
    "We can tell a bit from the following example:\n",
    "\n",
    "```\n",
    "dluman@jupyter-cs-allegheny-edu:~$\n",
    "```\n",
    "\n",
    "Here, we see the anatomy of a basic **command prompt** (the line up to, and including the `$` sign). Here's a breakdown of the parts:\n",
    "\n",
    "|Text          |Meaning               |\n",
    "|--------------|----------------------|\n",
    "|dluman        | User name            |\n",
    "|jupyter-cs-allegheny-edu| Server name|\n",
    "|~             | User `dluman` is in their \"home\" directory|\n",
    "\n",
    "We can tell a bit from this prompt. Keep track of how it will change as we move through this exercise.\n",
    "\n",
    "## Basic commands\n",
    "\n",
    "---\n",
    "\n",
    "In this worksheet, we'll run through:\n",
    "\n",
    "* `cd`\n",
    "* `pwd`\n",
    "* `ls`"
   ]
  },
  {
   "cell_type": "markdown",
   "metadata": {},
   "source": [
    "<div class=\"alert alert-block alert-info\">\n",
    "    <p>\n",
    "        Run each of the commands in the empty space provided below the question/prompt. These are referred to as \"cells\" in JupyterLab vocabulary. When you're finished typing a command, press the <b>SHIFT</b> + <b>ENTER</b> keys to run it.\n",
    "    </p>\n",
    "    <p>\n",
    "        Also -- important note -- in this notebook, stick to <em>one command per cell</em> -- don't get fancy on me. (It won't work.) This is not like code -- when we use code in JupyterLab, we can combine it all together in a big ol' block. But, here, Jupyter gets confused if we try too much.\n",
    "    </p>\n",
    "</div>\n",
    "\n",
    "#### 1. Home is getting kind-of boring: let's go somewhere else -- type `cd /mansion`"
   ]
  },
  {
   "cell_type": "code",
   "execution_count": null,
   "metadata": {},
   "outputs": [],
   "source": [
    "# TODO"
   ]
  },
  {
   "cell_type": "markdown",
   "metadata": {},
   "source": [
    "`mansion` is just a directory that we have on our system -- one that lives at the _lowest level_ of our server's hard drive -- that's why there's only a `/` in front of it.\n",
    "\n",
    "#### 2. What is this run-down mansion? Let's have a look around. Type `ls`."
   ]
  },
  {
   "cell_type": "code",
   "execution_count": null,
   "metadata": {},
   "outputs": [],
   "source": [
    "# TODO"
   ]
  },
  {
   "cell_type": "markdown",
   "metadata": {},
   "source": [
    "#### 3. 👻 It's a ghost! Let's run for it: go back `home` by typing `cd ~`"
   ]
  },
  {
   "cell_type": "code",
   "execution_count": null,
   "metadata": {},
   "outputs": [],
   "source": [
    "# TODO"
   ]
  },
  {
   "cell_type": "markdown",
   "metadata": {},
   "source": [
    "#### 4. Ok. We're back `~`. If we use the `pwd` command, we can further prove it to ourselves. Type it below."
   ]
  },
  {
   "cell_type": "code",
   "execution_count": null,
   "metadata": {},
   "outputs": [],
   "source": [
    "# TODO"
   ]
  },
  {
   "cell_type": "markdown",
   "metadata": {},
   "source": [
    "#### 5. Do the outputs from the two commands match? That means you are, in fact `~`. Let's look around again and see what we can see: type `ls`"
   ]
  },
  {
   "cell_type": "code",
   "execution_count": null,
   "metadata": {},
   "outputs": [],
   "source": [
    "# TODO"
   ]
  },
  {
   "cell_type": "markdown",
   "metadata": {},
   "source": [
    "#### 6. We see that we have our `cmpsc-100-jan-2021-week-0-YOUR USER NAME` directory. Let's `cd` to it.\n",
    "\n",
    "<div class=\"alert alert-block alert-info\">\n",
    "<p><b>Tip:</b> A lot of the directories and file names we use in our class are pretty long. Blame your instructor for that. But there's a trick we can use.\n",
    "    </p>\n",
    "    <p>\n",
    "        If you know (or want to complete) only _part_ of the name of the destination or file, you can \"completion match\" on the rest of the name by pressing the <b>TAB</b> key.\n",
    "    </p>\n",
    "</div>\n",
    "\n",
    "Type `cd cmpsc` and then the `TAB` key and run the command."
   ]
  },
  {
   "cell_type": "code",
   "execution_count": null,
   "metadata": {},
   "outputs": [],
   "source": [
    "# TODO"
   ]
  },
  {
   "cell_type": "markdown",
   "metadata": {},
   "source": [
    "Nifty, right? It'll save you a lot of time and typos. Or, you can just save your typos for other things. Like code.\n",
    "\n",
    "#### 7. Let's look around again and see what we see. What's the command for that? Type and run it in the space below."
   ]
  },
  {
   "cell_type": "code",
   "execution_count": null,
   "metadata": {},
   "outputs": [],
   "source": [
    "# TODO"
   ]
  },
  {
   "cell_type": "markdown",
   "metadata": {},
   "source": [
    "#### 8. Hm. Bunch of stuff here.\n",
    "\n",
    "* The items appended with a `/` are directories (just like `/mansion` and just like `cmpsc-100-jan-2021...`)\n",
    "* The other stuff: files of no particular importance to you. Nope. Don't mean anything...yet.\n",
    "\n",
    "Let's snoop on ourselves. Move into the `day-1` directory and look around. (I've provided you with two cells to run the commands separately.)"
   ]
  },
  {
   "cell_type": "code",
   "execution_count": null,
   "metadata": {},
   "outputs": [],
   "source": [
    "# TODO"
   ]
  },
  {
   "cell_type": "code",
   "execution_count": null,
   "metadata": {},
   "outputs": [],
   "source": [
    "# TODO"
   ]
  },
  {
   "cell_type": "markdown",
   "metadata": {},
   "source": [
    "#### 9. This is all well and good, but there are other \"rooms\" in this repository -- like other days, including our lab day, `day-3`. How can we get there from here?\n",
    "\n",
    "<div class=\"alert alert-block alert-info\">\n",
    "    <p>\n",
    "        <b>Tip:</b> what goes up can also come down.\n",
    "    </p>\n",
    "    <p>\n",
    "        Using <b>..</b> after our <b>cd</b> commands allows us to return down a single level. Later, we'll see that they can be <em>chained</em>.\n",
    "    </p>\n",
    "</div>\n",
    "\n",
    "Let's go down a level (back a \"step\"). Type and run `cd ..` in the space below."
   ]
  },
  {
   "cell_type": "code",
   "execution_count": null,
   "metadata": {},
   "outputs": [],
   "source": [
    "# TODO"
   ]
  },
  {
   "cell_type": "markdown",
   "metadata": {},
   "source": [
    "#### 10. We're back where we were a minute ago. Let's go into the `day-3` and back home using some of our new tricks.\n",
    "\n",
    "This is a multi-step process:\n",
    "\n",
    "1. In the first cell, enter the `day-3` folder\n",
    "2. In the second cell, go back home by using `cd ../../`\n",
    "  * `Tidbit`: \"down\" or \"back\" commands can be _chained together_ to perform mutliple steps at once\n",
    "3. In the third cell, verify you're home by using `pwd`\n",
    "\n",
    "If the output to `2` and `3` are the same -- you're done!"
   ]
  },
  {
   "cell_type": "code",
   "execution_count": null,
   "metadata": {},
   "outputs": [],
   "source": [
    "# TODO"
   ]
  },
  {
   "cell_type": "code",
   "execution_count": null,
   "metadata": {},
   "outputs": [],
   "source": [
    "# TODO"
   ]
  },
  {
   "cell_type": "code",
   "execution_count": null,
   "metadata": {},
   "outputs": [],
   "source": [
    "# TODO"
   ]
  },
  {
   "cell_type": "markdown",
   "metadata": {},
   "source": [
    "## Finishing this activity\n",
    "\n",
    "If you'd like some _direct_ practice with these commands, you can run through them in your terminal tab. Don't worry: with `cd`, `pwd`, and `ls`, you won't hurt anything. Take some time to do this now, and you'll thank yourself later."
   ]
  }
 ],
 "metadata": {
  "kernelspec": {
   "display_name": "Python 3",
   "language": "python",
   "name": "python3"
  },
  "language_info": {
   "codemirror_mode": {
    "name": "ipython",
    "version": 3
   },
   "file_extension": ".py",
   "mimetype": "text/x-python",
   "name": "python",
   "nbconvert_exporter": "python",
   "pygments_lexer": "ipython3",
   "version": "3.8.5"
  }
 },
 "nbformat": 4,
 "nbformat_minor": 4
}
