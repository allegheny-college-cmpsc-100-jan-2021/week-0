{
 "cells": [
  {
   "cell_type": "markdown",
   "metadata": {},
   "source": [
    "# Worksheet 0.0.7: Python syntax (expressions)\n",
    "\n",
    "## Expressions\n",
    "\n",
    "Of course: thoughts, feelings, hopes, dreams, etc. \n",
    "\n",
    "But, insofar as concerns Python, statements are anything which we can _evaluate_ (that is, get a result from) constitutes an expression. The most straightforward examples here are mathematical operations:\n",
    "\n",
    "* `+` \n",
    "* `-`\n",
    "* `/`\n",
    "* `*` \n",
    "\n",
    "Each of these are referred to as _operators_, because they do some sort of operation. In this case, arithmetic operation.\n",
    "\n",
    "These are probably the most intuitive parts of the language, and I've got a few for you to try below.\n",
    "\n",
    "<div class=\"alert alert-block alert-warning\">\n",
    "    <strong>Note on arithmetic symbols</strong>\n",
    "    <ul>\n",
    "        <li>The <b>/</b> indicates division</li>\n",
    "        <li>The <b>*</b> indicates multiplication</li>\n",
    "    </ul>\n",
    "</div>"
   ]
  },
  {
   "cell_type": "markdown",
   "metadata": {},
   "source": [
    "### 1. Here's something simple, try:\n",
    "\n",
    "$$2 + 2$$"
   ]
  },
  {
   "cell_type": "code",
   "execution_count": null,
   "metadata": {},
   "outputs": [],
   "source": []
  },
  {
   "cell_type": "markdown",
   "metadata": {},
   "source": [
    "The above _expression_ (a _statement_) _evaluates_ the addends `2` and `2` to produce the result.\n",
    "\n",
    "### 2. Now, let's look at:\n",
    "\n",
    "$$ 10 - 3 + 2 $$"
   ]
  },
  {
   "cell_type": "code",
   "execution_count": null,
   "metadata": {},
   "outputs": [],
   "source": []
  },
  {
   "cell_type": "markdown",
   "metadata": {},
   "source": [
    "### 3. Let's make it more complicated.\n",
    "\n",
    "$$ \\frac{3}{2} \\times 12000 - 3 + 1337 $$"
   ]
  },
  {
   "cell_type": "code",
   "execution_count": null,
   "metadata": {},
   "outputs": [],
   "source": []
  },
  {
   "cell_type": "markdown",
   "metadata": {},
   "source": [
    "### 4. Just warming up. Did you know that you can also use parenthesis to define the order of operations? (Here's an algebra nightmare coming back to haunt you.)\n",
    "\n",
    "$$\\frac{8}{2} \\times (2 + 2)$$"
   ]
  },
  {
   "cell_type": "code",
   "execution_count": null,
   "metadata": {},
   "outputs": [],
   "source": []
  },
  {
   "cell_type": "markdown",
   "metadata": {},
   "source": [
    "### 5. Let's push it to the limit. What about: \n",
    "\n",
    "$$(5 - 1) \\times (\\frac{(7 + 1)}{(3 - 1)})$$"
   ]
  },
  {
   "cell_type": "code",
   "execution_count": null,
   "metadata": {},
   "outputs": [],
   "source": []
  },
  {
   "cell_type": "markdown",
   "metadata": {},
   "source": [
    "### 6. Finally, a practical example. Perhaps you've seen this formula before:\n",
    "\n",
    "$$ F = \\frac{9}{5} \\times C + 32 $$\n",
    "\n",
    "I've got this broken two-unit thermometer, see, and I need to know what `30` degrees `C` (Celsius) comes to in `F` (Farenheit).\n",
    "\n",
    "What's the answer?"
   ]
  },
  {
   "cell_type": "code",
   "execution_count": null,
   "metadata": {},
   "outputs": [],
   "source": []
  },
  {
   "cell_type": "markdown",
   "metadata": {},
   "source": [
    "## Comments\n",
    "\n",
    "While not technically an _expression_, comments feature prominently in how expressions are described in Python code. They depart from the syntax we've learned so far in that they are _non-functional_ and are _purely descriptive_.\n",
    "\n",
    "Single-line comments are preceeded by a `#` character which informs the interpreter that, for the next line, what comes after is a comment. These are particularly helpful in reminding you (or someone else) what a particular bit of code does or why part of a problem was solved in the way that it was.\n",
    "\n",
    "While we won't practice comments here, we will in other worksheets, and I encourage you to use them liberally throughout your code."
   ]
  },
  {
   "cell_type": "markdown",
   "metadata": {},
   "source": [
    "## Finishing the activity\n",
    "\n",
    "That's enough math for one worksheet. Or ever.\n",
    "\n",
    "The problem with thinking that Python is useful to calcluate numbers is that the fun stops there. Unless we write the numbers down, a program won't necessarily remember them. Just like your calculator during a math test, your professor can't see what you're up to unless you _write it down_ or commit it to memory.\n",
    "\n",
    "We'll see more about what I mean in the next worksheet. As long as you've finished the calculations above, you're done!"
   ]
  }
 ],
 "metadata": {
  "kernelspec": {
   "display_name": "Python 3",
   "language": "python",
   "name": "python3"
  },
  "language_info": {
   "codemirror_mode": {
    "name": "ipython",
    "version": 3
   },
   "file_extension": ".py",
   "mimetype": "text/x-python",
   "name": "python",
   "nbconvert_exporter": "python",
   "pygments_lexer": "ipython3",
   "version": "3.8.5"
  }
 },
 "nbformat": 4,
 "nbformat_minor": 4
}
