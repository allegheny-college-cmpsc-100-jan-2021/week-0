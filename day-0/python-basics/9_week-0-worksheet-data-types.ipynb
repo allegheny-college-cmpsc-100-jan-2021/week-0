{
 "cells": [
  {
   "cell_type": "markdown",
   "metadata": {},
   "source": [
    "# Worksheet 0.0.9: Python data types"
   ]
  },
  {
   "cell_type": "markdown",
   "metadata": {},
   "source": [
    "## Data types\n",
    "\n",
    "A brief detour for a minute.\n",
    "\n",
    "When performing calculations, you may have noticed that numbers you expected to come out as _whole_ numebers (aka `integers`) came out looking more like decimals (something called a `floating point number` or a `float`). Your curiosity is about to be rewarded.\n",
    "\n",
    "Though there are more data types that we will cover this semester, the basic three (3) that we'll see time and again are:\n",
    "\n",
    "* integers (whole numbers)\n",
    "* floating point numbers (decimal numbers)\n",
    "* strings\n",
    "\n",
    "We've seen the first two (`integers` and `floating point numbers`) and we'll look at the last, `strings`, in this worksheet, too. Handily enough, we'll also briefly touch on _data conversion_, that is transforming one data type to another -- which is also a preview of `functions`.\n",
    "\n",
    "### Integers (`int`)\n",
    "\n",
    "These are whole numbers. They range from very large _negative numbers_ (-2147483647) to very large _positive numbers_ (+2147483647). Notice that _there is no decimal point_ here. Again -- whole numbers have no \"fractional part\" -- the decimal in a `floating point` number.\n",
    "\n",
    "But, in Python, integers can behave quite curiously.\n",
    "\n",
    "Let's start by giving ourselves some integers to work with. \n",
    "\n",
    "#### 1. A widget factory (everyone loves a good widget) makes `150` widgets per day.\n",
    "\n",
    "* Store this number as the variable `production`."
   ]
  },
  {
   "cell_type": "code",
   "execution_count": null,
   "metadata": {},
   "outputs": [],
   "source": [
    "# Setup initial production number"
   ]
  },
  {
   "cell_type": "markdown",
   "metadata": {},
   "source": [
    "#### 2. After one month (30 days), how many widgets are made?\n",
    "\n",
    "* Store the result of the calculation as `monthly`\n",
    "* Press enter while still in the cell to create a new line; type `monthly` on its own line and press `Enter`"
   ]
  },
  {
   "cell_type": "code",
   "execution_count": null,
   "metadata": {},
   "outputs": [],
   "source": [
    "# Calculate monthly production and display in notebook"
   ]
  },
  {
   "cell_type": "markdown",
   "metadata": {},
   "source": [
    "Looks like an integer, right?\n",
    "\n",
    "#### 3. So, what's the `weekly` total of widgets made?\n",
    "\n",
    "* Here, assume the work week to be `5` days"
   ]
  },
  {
   "cell_type": "code",
   "execution_count": null,
   "metadata": {},
   "outputs": [],
   "source": [
    "# Calculate weekly productivity (widgets made)"
   ]
  },
  {
   "cell_type": "markdown",
   "metadata": {},
   "source": [
    "### Floating point numbers (`floats`)\n",
    "\n",
    "Wait, both of the number used in the calculation above were `integers`! What happened?\n",
    "\n",
    "Dividing integers always _promotes_ them to `floats` in Python. The same goes for multiplying an `integer` with a `float`: it automatically \"promotes\" (becomes more _precise_).\n",
    "\n",
    "Contrary to `integers`, floating point numbers (`floats`) contain decimal places -- and only enough to fully express a number. That is, up to `16` digits past the decimal.\n",
    "\n",
    "So, let's see that in action.\n",
    "\n",
    "#### 4. Last month, machine breakdowns caused our factory to produce only 90% (`.90`) of their normal capacity. How many widgets is that?"
   ]
  },
  {
   "cell_type": "code",
   "execution_count": null,
   "metadata": {},
   "outputs": [],
   "source": [
    "# Calculate 90% of widget output"
   ]
  },
  {
   "cell_type": "markdown",
   "metadata": {},
   "source": [
    "Again, this could be expressed by `4050`, but because of _promotion_, the number becomes a `float`, rather than an `integer`.\n",
    "\n",
    "### `Strings`\n",
    "\n",
    "`Strings` are groups of characters. Simple, right?\n",
    "\n",
    "Well, maybe not. First things first, what's a \"character?\" Here's a hint: there's a difference between `4` and `\"4\"`. One is a number (`4`) and the other is a symbol which, to a machine, _represents a human-readable symbol_ for a number, but _is not_ a number. There's a ton of them that your computer recognizes, and they live in a thing called the [ASCII table](http://www.asciitable.com/).\n",
    "\n",
    "So, characters are really just symbolic. They may look like letters (`a`,`b`,`c`,`...`) or numbers, but in the end they are just text. We can't do numerical operations on them. But, as we'll see later, we can do some kinds of operations on/with them.\n",
    "\n",
    "`Strings` are defined by placing `\"\"` (quotation marks) around the text which constitutes the string. Defining `strings` this way is _literally_ defining them. As such, they're called `string` `literals`.\n",
    "\n",
    "### 5. Let's use them for some service for our widget factory and name it, assigning the `string` `\"Widget Factory 1.0\"` to the variable `factory_name`. \n",
    "\n",
    "Below our assignment, type the name of the variable (`factory_name`) and press `Enter` to display it. "
   ]
  },
  {
   "cell_type": "code",
   "execution_count": null,
   "metadata": {},
   "outputs": [],
   "source": [
    "# Name factory and display in notebook"
   ]
  },
  {
   "cell_type": "markdown",
   "metadata": {},
   "source": [
    "## Data conversion"
   ]
  },
  {
   "cell_type": "markdown",
   "metadata": {},
   "source": [
    "Python gives us the ability to convert data into other useful formats. For example, we can turn numeric data into `strings` and, where appropriate, `strings` into numeric data. We do this using built-in functions provided by the Python language.\n",
    "\n",
    "### A detour into functions\n",
    "\n",
    "For the purposes of this worksheet, we're going to finish by addressing the last kind of statement we'll cover: functions. These operate a bit differently than everything we've seen so far, and merit a bit more discussion. In the following example, we'll use a function called `str` to convert our `monthly` widget production count into a `string`.\n",
    "\n",
    "```python\n",
    "str(monthly)\n",
    "```\n",
    "\n",
    "The name of the function, `str` prepends (that is, comes before) the value we want to turn into a string. We use parenthesis to pass the value to the function as an _argument_. We'll look at this more later, but for now let's look at what we can do with this new string.\n",
    "\n",
    "To finish our report, we need to display a `string` which reads:\n",
    "\n",
    "```\n",
    "Our monthly widget output is: #######\n",
    "```\n",
    "\n",
    "We need to replace `#######` with the value of `monthly`. There are a couple ways to do this. \n",
    "\n",
    "### 6. We could store the evaluation of `str(monthly)` as a variable called `str_monthly`.\n",
    "\n",
    "Let's do this below."
   ]
  },
  {
   "cell_type": "code",
   "execution_count": null,
   "metadata": {},
   "outputs": [],
   "source": [
    "# Convery monthly productivity to string"
   ]
  },
  {
   "cell_type": "markdown",
   "metadata": {},
   "source": [
    "Prove it to yourself by typing `str_monthly` in the cell below and pressing `Enter`."
   ]
  },
  {
   "cell_type": "code",
   "execution_count": null,
   "metadata": {},
   "outputs": [],
   "source": [
    "# Display string in notebook"
   ]
  },
  {
   "cell_type": "markdown",
   "metadata": {},
   "source": [
    "### 7a. To add it to our string, we can use the `+` operator on the _`string`_ version of the number.\n",
    "\n",
    "This is called _concatenation_ -- it's not mathematic, but it does, in a sense, \"add\" it to the string. In the cell below, type `\"Our monthly widget output is: \" + str_monthly`\n",
    "\n",
    "Another function we can use to display our strings to the screen is the `print` function. Like the `str` function, it requires one argument: the message to print.\n",
    "\n",
    "In the cell below, type `print(\"Our monthly widget output is: \" + str_monthly)`"
   ]
  },
  {
   "cell_type": "code",
   "execution_count": null,
   "metadata": {},
   "outputs": [],
   "source": [
    "# Use print statement to print one variation"
   ]
  },
  {
   "cell_type": "markdown",
   "metadata": {},
   "source": [
    "### 7b. Because `str(monthly)` is an _expression_ which evaluates to a string, we can simply add the expression itself to the string.\n",
    "\n",
    "Let's also experiment a bit with defining `\"Our monthly widget output is:\"` as `output_msg`. In the cell below, define `output_msg` and add `str(monthly)` to it.\n",
    "\n",
    "Just below that expression, use the `print` function on `output_msg` to prove that it's identical to the above verison in `7a`."
   ]
  },
  {
   "cell_type": "code",
   "execution_count": null,
   "metadata": {},
   "outputs": [],
   "source": [
    "# Use print statement to print assigned string variation"
   ]
  },
  {
   "cell_type": "markdown",
   "metadata": {},
   "source": [
    "## Finishing this activity\n",
    "\n",
    "If the answer to `7a` and `7b` match, you're finished with this worksheet. You can continue to the lab."
   ]
  }
 ],
 "metadata": {
  "kernelspec": {
   "display_name": "Python 3",
   "language": "python",
   "name": "python3"
  },
  "language_info": {
   "codemirror_mode": {
    "name": "ipython",
    "version": 3
   },
   "file_extension": ".py",
   "mimetype": "text/x-python",
   "name": "python",
   "nbconvert_exporter": "python",
   "pygments_lexer": "ipython3",
   "version": "3.8.5"
  }
 },
 "nbformat": 4,
 "nbformat_minor": 4
}
