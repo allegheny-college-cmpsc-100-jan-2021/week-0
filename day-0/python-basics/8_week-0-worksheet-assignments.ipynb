{
 "cells": [
  {
   "cell_type": "markdown",
   "metadata": {},
   "source": [
    "# Worksheet 0.0.8: Python syntax (assignments)"
   ]
  },
  {
   "cell_type": "markdown",
   "metadata": {},
   "source": [
    "## Assignments\n",
    "\n",
    "Kinda like this one, amirite?\n",
    "\n",
    "All the work we did in the last worksheet mounts to little if we don't store it. Recall our discussion about computer memory this week: we need to _store_ values in order to use them later. That's where assignments come in.\n",
    "\n",
    "### Variables\n",
    "\n",
    "Python, and most other programming languages, use _variables_ to store information. We call them that because they are temporary containers that can really contain anything at any time. We don't always know what we're going to get. So, they _vary_.\n",
    "\n",
    "These are really just handy ways to refer to places in temporary computer memory handle do the storage for us. Generally, this takes the form:\n",
    "\n",
    "$$variable = expression$$\n",
    "\n",
    "For example, we might say we need to track the amount of `bananas` I have left from a bunch I bought recently. (I tend to eat these pretty quickly because, well, I like bananas.) To inventory our fruit, we'd say \"oh, I have 5 bananas\" and then store it in memory by calling it `bananas` like so:\n",
    "\n",
    "```python\n",
    "bananas = 5\n",
    "```\n",
    "\n",
    "Pay careful attention to the way the above is _phrased_. We are assigning the value of `5` to a variable called `bananas` -- not calling something `bananas` and saying that its value is `5`. This matters because the Python interpreter will always _evaluate_ the expression and _then_ assign it.\n",
    "\n",
    "First, I evaluate the value (`5`) and then store it to a place in memory I conveniently call `bananas`. This is called \"right-to-left associativity,\" which is a fancy way of remembering that _without an expression to evaluate_, my variable (`bananas`) would be meaningless.\n",
    "\n",
    "Meanwhile, the computer (in the background) stores `bananas` at a place it calls `0x7fff9575c05f`. It always knows that `bananas` lives at this place called  `0x7fff9575c05f`. But we don't care about `0x7fff9575c05f`; we want our `bananas`. (Sorry, computer.)\n",
    "\n",
    "#### \"Legal\" variable names\n",
    "\n",
    "In Python, there are a few rules about variable names:\n",
    "\n",
    "<div class=\"alert alert-block alert-info\">\n",
    "    <b>VARIABLE NAME RULES</b>\n",
    "    <ul>\n",
    "        <li>They must start with a letter or the underscore character\n",
    "        <li>They can contain, but cannot start with numbers\n",
    "        <li>A variable name can only contain letters, numbers, and underscores (`_`)\n",
    "        <li>Variable names are case-sensitive\n",
    "            <ul>\n",
    "                <li>Banana, BANANA, and BaNaNa are all <b>different</b>\n",
    "            </ul>\n",
    "    </ul>\n",
    "</div>\n",
    "\n",
    "<div class=\"alert alert-block alert-success\">\n",
    "    <b>LEGAL VARIABLE NAMES</b>\n",
    "    <ul>\n",
    "        <li>_total\n",
    "        <li>number_of_cats\n",
    "        <li>Claw5\n",
    "        <li>m3owZ\n",
    "    </ul>\n",
    "</div>\n",
    "\n",
    "<div class=\"alert alert-block alert-danger\">\n",
    "    <b>ILLEGAL VARIABLE NAMES</b>\n",
    "    <ul>\n",
    "        <li>#hashtag\n",
    "        <li>5alive\n",
    "        <li>$dollars\n",
    "        <li>number of dogs\n",
    "    </ul>\n",
    "</div>\n",
    "\n",
    "### Calculation with variables\n",
    "\n",
    "#### Advanced arithmetic\n",
    "\n",
    "I promised no more math. Not for the first time, I lied. But, instead of teaching you something relatively new, I'm going to show you a speedy way to do something you already know. If we bought `5` more bananas, we could say:\n",
    "\n",
    "```python\n",
    "bananas = bananas + 5\n",
    "```\n",
    "\n",
    "Sure. All day.\n",
    "\n",
    "But, we can also say:\n",
    "\n",
    "```python\n",
    "bananas += 5\n",
    "```\n",
    "\n",
    "Essentially, we're saying \"alright, `bananas`, you're some value, but now you're `5` more.\"\n",
    "\n",
    "Other operators (in addition to those listed below) exist to help us do quick math:\n",
    "\n",
    "* `+=`\n",
    "* `-=`\n",
    "* `/=`\n",
    "* `*=`\n",
    "\n",
    "Let's practice a bit. Use the above new operators to practice additions, subtractions, et al.\n",
    "\n",
    "### 1. Create the variable `bananas`, and give it a value of `5`."
   ]
  },
  {
   "cell_type": "code",
   "execution_count": null,
   "metadata": {},
   "outputs": [],
   "source": [
    "# Create a value for bananas\n"
   ]
  },
  {
   "cell_type": "markdown",
   "metadata": {},
   "source": [
    "### 2. Somehow, grudgingly, I give away 2 bananas. Assign the result of that that transaction to `bananas`."
   ]
  },
  {
   "cell_type": "code",
   "execution_count": null,
   "metadata": {},
   "outputs": [],
   "source": [
    "# Subtract 2\n"
   ]
  },
  {
   "cell_type": "markdown",
   "metadata": {},
   "source": [
    "### 3. Lucky day! I found a banana tree in the temperate climate of Pennsylvania. I gain 22 bananas. Add this new discovery to my current `bananas` total."
   ]
  },
  {
   "cell_type": "code",
   "execution_count": null,
   "metadata": {},
   "outputs": [],
   "source": [
    "# Add 22\n"
   ]
  },
  {
   "cell_type": "markdown",
   "metadata": {},
   "source": [
    "### 4. I needed 4 friends to help me haul my bananas back home, so I decide to split the bananas among us all equally. \n",
    "\n",
    "How many bananas do I have remaining? (Don't forget to include my share -- there are `5` of us in total!)"
   ]
  },
  {
   "cell_type": "code",
   "execution_count": null,
   "metadata": {},
   "outputs": [],
   "source": [
    "# Divide by 5\n"
   ]
  },
  {
   "cell_type": "markdown",
   "metadata": {},
   "source": [
    "### 5. In the time it took to get all of the bananas back home, 80% (`.80`) spoiled. How many good bananas do I have left? \n",
    "\n",
    "* Store the spoiled amount as `spoiled`\n",
    "* Subtract this amount from `bananas`"
   ]
  },
  {
   "cell_type": "code",
   "execution_count": null,
   "metadata": {},
   "outputs": [],
   "source": [
    "# Keep track of spoiled fruit\n",
    "\n",
    "# Subtract from amount of fruit\n"
   ]
  },
  {
   "cell_type": "markdown",
   "metadata": {},
   "source": [
    "### Finishing this activity"
   ]
  },
  {
   "cell_type": "markdown",
   "metadata": {},
   "source": [
    "Run the cell below to check your answer."
   ]
  },
  {
   "cell_type": "code",
   "execution_count": null,
   "metadata": {},
   "outputs": [],
   "source": [
    "# Is your answer equal?\n",
    "bananas == 1.0"
   ]
  },
  {
   "cell_type": "markdown",
   "metadata": {},
   "source": [
    "If the result is `True`, you're done and can continue on to the next worksheet. If not, you might need to go back over your math or assignments.\n",
    "\n",
    "In the meantime, I guess I'll share what I've got halfsies with my cat."
   ]
  }
 ],
 "metadata": {
  "kernelspec": {
   "display_name": "Python 3",
   "language": "python",
   "name": "python3"
  },
  "language_info": {
   "codemirror_mode": {
    "name": "ipython",
    "version": 3
   },
   "file_extension": ".py",
   "mimetype": "text/x-python",
   "name": "python",
   "nbconvert_exporter": "python",
   "pygments_lexer": "ipython3",
   "version": "3.8.5"
  }
 },
 "nbformat": 4,
 "nbformat_minor": 4
}
